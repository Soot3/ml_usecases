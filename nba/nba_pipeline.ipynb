{
  "nbformat": 4,
  "nbformat_minor": 0,
  "metadata": {
    "kernelspec": {
      "display_name": "Python 3",
      "language": "python",
      "name": "python3"
    },
    "language_info": {
      "codemirror_mode": {
        "name": "ipython",
        "version": 3
      },
      "file_extension": ".py",
      "mimetype": "text/x-python",
      "name": "python",
      "nbconvert_exporter": "python",
      "pygments_lexer": "ipython3",
      "version": "3.6.9"
    },
    "colab": {
      "name": "nba_pipeline",
      "provenance": []
    }
  },
  "cells": [
    {
      "cell_type": "code",
      "metadata": {
        "colab": {
          "base_uri": "https://localhost:8080/"
        },
        "id": "6osdTB0yiJPy",
        "outputId": "a4939d8b-8b47-4bfd-e7c6-1d052622c07a"
      },
      "source": [
        "!python -m pip install --user --upgrade pip"
      ],
      "execution_count": 1,
      "outputs": [
        {
          "output_type": "stream",
          "text": [
            "Collecting pip\n",
            "\u001b[?25l  Downloading https://files.pythonhosted.org/packages/fe/ef/60d7ba03b5c442309ef42e7d69959f73aacccd0d86008362a681c4698e83/pip-21.0.1-py3-none-any.whl (1.5MB)\n",
            "\r\u001b[K     |▏                               | 10kB 15.8MB/s eta 0:00:01\r\u001b[K     |▍                               | 20kB 22.0MB/s eta 0:00:01\r\u001b[K     |▋                               | 30kB 26.5MB/s eta 0:00:01\r\u001b[K     |▉                               | 40kB 29.9MB/s eta 0:00:01\r\u001b[K     |█                               | 51kB 31.8MB/s eta 0:00:01\r\u001b[K     |█▎                              | 61kB 24.0MB/s eta 0:00:01\r\u001b[K     |█▌                              | 71kB 23.4MB/s eta 0:00:01\r\u001b[K     |█▊                              | 81kB 18.3MB/s eta 0:00:01\r\u001b[K     |██                              | 92kB 18.9MB/s eta 0:00:01\r\u001b[K     |██▏                             | 102kB 18.6MB/s eta 0:00:01\r\u001b[K     |██▍                             | 112kB 18.6MB/s eta 0:00:01\r\u001b[K     |██▌                             | 122kB 18.6MB/s eta 0:00:01\r\u001b[K     |██▊                             | 133kB 18.6MB/s eta 0:00:01\r\u001b[K     |███                             | 143kB 18.6MB/s eta 0:00:01\r\u001b[K     |███▏                            | 153kB 18.6MB/s eta 0:00:01\r\u001b[K     |███▍                            | 163kB 18.6MB/s eta 0:00:01\r\u001b[K     |███▋                            | 174kB 18.6MB/s eta 0:00:01\r\u001b[K     |███▉                            | 184kB 18.6MB/s eta 0:00:01\r\u001b[K     |████                            | 194kB 18.6MB/s eta 0:00:01\r\u001b[K     |████▎                           | 204kB 18.6MB/s eta 0:00:01\r\u001b[K     |████▌                           | 215kB 18.6MB/s eta 0:00:01\r\u001b[K     |████▊                           | 225kB 18.6MB/s eta 0:00:01\r\u001b[K     |█████                           | 235kB 18.6MB/s eta 0:00:01\r\u001b[K     |█████                           | 245kB 18.6MB/s eta 0:00:01\r\u001b[K     |█████▎                          | 256kB 18.6MB/s eta 0:00:01\r\u001b[K     |█████▌                          | 266kB 18.6MB/s eta 0:00:01\r\u001b[K     |█████▊                          | 276kB 18.6MB/s eta 0:00:01\r\u001b[K     |██████                          | 286kB 18.6MB/s eta 0:00:01\r\u001b[K     |██████▏                         | 296kB 18.6MB/s eta 0:00:01\r\u001b[K     |██████▍                         | 307kB 18.6MB/s eta 0:00:01\r\u001b[K     |██████▋                         | 317kB 18.6MB/s eta 0:00:01\r\u001b[K     |██████▉                         | 327kB 18.6MB/s eta 0:00:01\r\u001b[K     |███████                         | 337kB 18.6MB/s eta 0:00:01\r\u001b[K     |███████▎                        | 348kB 18.6MB/s eta 0:00:01\r\u001b[K     |███████▌                        | 358kB 18.6MB/s eta 0:00:01\r\u001b[K     |███████▋                        | 368kB 18.6MB/s eta 0:00:01\r\u001b[K     |███████▉                        | 378kB 18.6MB/s eta 0:00:01\r\u001b[K     |████████                        | 389kB 18.6MB/s eta 0:00:01\r\u001b[K     |████████▎                       | 399kB 18.6MB/s eta 0:00:01\r\u001b[K     |████████▌                       | 409kB 18.6MB/s eta 0:00:01\r\u001b[K     |████████▊                       | 419kB 18.6MB/s eta 0:00:01\r\u001b[K     |█████████                       | 430kB 18.6MB/s eta 0:00:01\r\u001b[K     |█████████▏                      | 440kB 18.6MB/s eta 0:00:01\r\u001b[K     |█████████▍                      | 450kB 18.6MB/s eta 0:00:01\r\u001b[K     |█████████▋                      | 460kB 18.6MB/s eta 0:00:01\r\u001b[K     |█████████▉                      | 471kB 18.6MB/s eta 0:00:01\r\u001b[K     |██████████                      | 481kB 18.6MB/s eta 0:00:01\r\u001b[K     |██████████▏                     | 491kB 18.6MB/s eta 0:00:01\r\u001b[K     |██████████▍                     | 501kB 18.6MB/s eta 0:00:01\r\u001b[K     |██████████▋                     | 512kB 18.6MB/s eta 0:00:01\r\u001b[K     |██████████▉                     | 522kB 18.6MB/s eta 0:00:01\r\u001b[K     |███████████                     | 532kB 18.6MB/s eta 0:00:01\r\u001b[K     |███████████▎                    | 542kB 18.6MB/s eta 0:00:01\r\u001b[K     |███████████▌                    | 552kB 18.6MB/s eta 0:00:01\r\u001b[K     |███████████▊                    | 563kB 18.6MB/s eta 0:00:01\r\u001b[K     |████████████                    | 573kB 18.6MB/s eta 0:00:01\r\u001b[K     |████████████▏                   | 583kB 18.6MB/s eta 0:00:01\r\u001b[K     |████████████▍                   | 593kB 18.6MB/s eta 0:00:01\r\u001b[K     |████████████▋                   | 604kB 18.6MB/s eta 0:00:01\r\u001b[K     |████████████▊                   | 614kB 18.6MB/s eta 0:00:01\r\u001b[K     |█████████████                   | 624kB 18.6MB/s eta 0:00:01\r\u001b[K     |█████████████▏                  | 634kB 18.6MB/s eta 0:00:01\r\u001b[K     |█████████████▍                  | 645kB 18.6MB/s eta 0:00:01\r\u001b[K     |█████████████▋                  | 655kB 18.6MB/s eta 0:00:01\r\u001b[K     |█████████████▉                  | 665kB 18.6MB/s eta 0:00:01\r\u001b[K     |██████████████                  | 675kB 18.6MB/s eta 0:00:01\r\u001b[K     |██████████████▎                 | 686kB 18.6MB/s eta 0:00:01\r\u001b[K     |██████████████▌                 | 696kB 18.6MB/s eta 0:00:01\r\u001b[K     |██████████████▊                 | 706kB 18.6MB/s eta 0:00:01\r\u001b[K     |███████████████                 | 716kB 18.6MB/s eta 0:00:01\r\u001b[K     |███████████████▏                | 727kB 18.6MB/s eta 0:00:01\r\u001b[K     |███████████████▎                | 737kB 18.6MB/s eta 0:00:01\r\u001b[K     |███████████████▌                | 747kB 18.6MB/s eta 0:00:01\r\u001b[K     |███████████████▊                | 757kB 18.6MB/s eta 0:00:01\r\u001b[K     |████████████████                | 768kB 18.6MB/s eta 0:00:01\r\u001b[K     |████████████████▏               | 778kB 18.6MB/s eta 0:00:01\r\u001b[K     |████████████████▍               | 788kB 18.6MB/s eta 0:00:01\r\u001b[K     |████████████████▋               | 798kB 18.6MB/s eta 0:00:01\r\u001b[K     |████████████████▉               | 808kB 18.6MB/s eta 0:00:01\r\u001b[K     |█████████████████               | 819kB 18.6MB/s eta 0:00:01\r\u001b[K     |█████████████████▎              | 829kB 18.6MB/s eta 0:00:01\r\u001b[K     |█████████████████▌              | 839kB 18.6MB/s eta 0:00:01\r\u001b[K     |█████████████████▊              | 849kB 18.6MB/s eta 0:00:01\r\u001b[K     |█████████████████▉              | 860kB 18.6MB/s eta 0:00:01\r\u001b[K     |██████████████████              | 870kB 18.6MB/s eta 0:00:01\r\u001b[K     |██████████████████▎             | 880kB 18.6MB/s eta 0:00:01\r\u001b[K     |██████████████████▌             | 890kB 18.6MB/s eta 0:00:01\r\u001b[K     |██████████████████▊             | 901kB 18.6MB/s eta 0:00:01\r\u001b[K     |███████████████████             | 911kB 18.6MB/s eta 0:00:01\r\u001b[K     |███████████████████▏            | 921kB 18.6MB/s eta 0:00:01\r\u001b[K     |███████████████████▍            | 931kB 18.6MB/s eta 0:00:01\r\u001b[K     |███████████████████▋            | 942kB 18.6MB/s eta 0:00:01\r\u001b[K     |███████████████████▉            | 952kB 18.6MB/s eta 0:00:01\r\u001b[K     |████████████████████            | 962kB 18.6MB/s eta 0:00:01\r\u001b[K     |████████████████████▎           | 972kB 18.6MB/s eta 0:00:01\r\u001b[K     |████████████████████▍           | 983kB 18.6MB/s eta 0:00:01\r\u001b[K     |████████████████████▋           | 993kB 18.6MB/s eta 0:00:01\r\u001b[K     |████████████████████▉           | 1.0MB 18.6MB/s eta 0:00:01\r\u001b[K     |█████████████████████           | 1.0MB 18.6MB/s eta 0:00:01\r\u001b[K     |█████████████████████▎          | 1.0MB 18.6MB/s eta 0:00:01\r\u001b[K     |█████████████████████▌          | 1.0MB 18.6MB/s eta 0:00:01\r\u001b[K     |█████████████████████▊          | 1.0MB 18.6MB/s eta 0:00:01\r\u001b[K     |██████████████████████          | 1.1MB 18.6MB/s eta 0:00:01\r\u001b[K     |██████████████████████▏         | 1.1MB 18.6MB/s eta 0:00:01\r\u001b[K     |██████████████████████▍         | 1.1MB 18.6MB/s eta 0:00:01\r\u001b[K     |██████████████████████▋         | 1.1MB 18.6MB/s eta 0:00:01\r\u001b[K     |██████████████████████▉         | 1.1MB 18.6MB/s eta 0:00:01\r\u001b[K     |███████████████████████         | 1.1MB 18.6MB/s eta 0:00:01\r\u001b[K     |███████████████████████▏        | 1.1MB 18.6MB/s eta 0:00:01\r\u001b[K     |███████████████████████▍        | 1.1MB 18.6MB/s eta 0:00:01\r\u001b[K     |███████████████████████▋        | 1.1MB 18.6MB/s eta 0:00:01\r\u001b[K     |███████████████████████▉        | 1.1MB 18.6MB/s eta 0:00:01\r\u001b[K     |████████████████████████        | 1.2MB 18.6MB/s eta 0:00:01\r\u001b[K     |████████████████████████▎       | 1.2MB 18.6MB/s eta 0:00:01\r\u001b[K     |████████████████████████▌       | 1.2MB 18.6MB/s eta 0:00:01\r\u001b[K     |████████████████████████▊       | 1.2MB 18.6MB/s eta 0:00:01\r\u001b[K     |█████████████████████████       | 1.2MB 18.6MB/s eta 0:00:01\r\u001b[K     |█████████████████████████▏      | 1.2MB 18.6MB/s eta 0:00:01\r\u001b[K     |█████████████████████████▍      | 1.2MB 18.6MB/s eta 0:00:01\r\u001b[K     |█████████████████████████▌      | 1.2MB 18.6MB/s eta 0:00:01\r\u001b[K     |█████████████████████████▊      | 1.2MB 18.6MB/s eta 0:00:01\r\u001b[K     |██████████████████████████      | 1.2MB 18.6MB/s eta 0:00:01\r\u001b[K     |██████████████████████████▏     | 1.3MB 18.6MB/s eta 0:00:01\r\u001b[K     |██████████████████████████▍     | 1.3MB 18.6MB/s eta 0:00:01\r\u001b[K     |██████████████████████████▋     | 1.3MB 18.6MB/s eta 0:00:01\r\u001b[K     |██████████████████████████▉     | 1.3MB 18.6MB/s eta 0:00:01\r\u001b[K     |███████████████████████████     | 1.3MB 18.6MB/s eta 0:00:01\r\u001b[K     |███████████████████████████▎    | 1.3MB 18.6MB/s eta 0:00:01\r\u001b[K     |███████████████████████████▌    | 1.3MB 18.6MB/s eta 0:00:01\r\u001b[K     |███████████████████████████▊    | 1.3MB 18.6MB/s eta 0:00:01\r\u001b[K     |███████████████████████████▉    | 1.3MB 18.6MB/s eta 0:00:01\r\u001b[K     |████████████████████████████    | 1.4MB 18.6MB/s eta 0:00:01\r\u001b[K     |████████████████████████████▎   | 1.4MB 18.6MB/s eta 0:00:01\r\u001b[K     |████████████████████████████▌   | 1.4MB 18.6MB/s eta 0:00:01\r\u001b[K     |████████████████████████████▊   | 1.4MB 18.6MB/s eta 0:00:01\r\u001b[K     |█████████████████████████████   | 1.4MB 18.6MB/s eta 0:00:01\r\u001b[K     |█████████████████████████████▏  | 1.4MB 18.6MB/s eta 0:00:01\r\u001b[K     |█████████████████████████████▍  | 1.4MB 18.6MB/s eta 0:00:01\r\u001b[K     |█████████████████████████████▋  | 1.4MB 18.6MB/s eta 0:00:01\r\u001b[K     |█████████████████████████████▉  | 1.4MB 18.6MB/s eta 0:00:01\r\u001b[K     |██████████████████████████████  | 1.4MB 18.6MB/s eta 0:00:01\r\u001b[K     |██████████████████████████████▎ | 1.5MB 18.6MB/s eta 0:00:01\r\u001b[K     |██████████████████████████████▍ | 1.5MB 18.6MB/s eta 0:00:01\r\u001b[K     |██████████████████████████████▋ | 1.5MB 18.6MB/s eta 0:00:01\r\u001b[K     |██████████████████████████████▉ | 1.5MB 18.6MB/s eta 0:00:01\r\u001b[K     |███████████████████████████████ | 1.5MB 18.6MB/s eta 0:00:01\r\u001b[K     |███████████████████████████████▎| 1.5MB 18.6MB/s eta 0:00:01\r\u001b[K     |███████████████████████████████▌| 1.5MB 18.6MB/s eta 0:00:01\r\u001b[K     |███████████████████████████████▊| 1.5MB 18.6MB/s eta 0:00:01\r\u001b[K     |████████████████████████████████| 1.5MB 18.6MB/s eta 0:00:01\r\u001b[K     |████████████████████████████████| 1.5MB 18.6MB/s \n",
            "\u001b[?25hInstalling collected packages: pip\n",
            "\u001b[33m  WARNING: The scripts pip, pip3 and pip3.7 are installed in '/root/.local/bin' which is not on PATH.\n",
            "  Consider adding this directory to PATH or, if you prefer to suppress this warning, use --no-warn-script-location.\u001b[0m\n",
            "Successfully installed pip-21.0.1\n"
          ],
          "name": "stdout"
        }
      ]
    },
    {
      "cell_type": "code",
      "metadata": {
        "colab": {
          "base_uri": "https://localhost:8080/",
          "height": 1000
        },
        "id": "B_RtgcNyiJP8",
        "outputId": "cda36016-fa5e-4c1d-db43-11c8428866a8"
      },
      "source": [
        "!pip3 install kfp --upgrade --user"
      ],
      "execution_count": 2,
      "outputs": [
        {
          "output_type": "stream",
          "text": [
            "WARNING: pip is being invoked by an old script wrapper. This will fail in a future version of pip.\n",
            "Please see https://github.com/pypa/pip/issues/5599 for advice on fixing the underlying issue.\n",
            "To avoid this problem you can invoke Python with '-m pip' instead of running pip directly.\n",
            "Collecting kfp\n",
            "  Downloading kfp-1.4.0.tar.gz (159 kB)\n",
            "\u001b[K     |████████████████████████████████| 159 kB 18.3 MB/s \n",
            "\u001b[?25hCollecting PyYAML>=5.3\n",
            "  Downloading PyYAML-5.4.1-cp37-cp37m-manylinux1_x86_64.whl (636 kB)\n",
            "\u001b[K     |████████████████████████████████| 636 kB 39.0 MB/s \n",
            "\u001b[?25hRequirement already satisfied: google-cloud-storage>=1.13.0 in /usr/local/lib/python3.7/dist-packages (from kfp) (1.18.1)\n",
            "Collecting kubernetes<12.0.0,>=8.0.0\n",
            "  Downloading kubernetes-11.0.0-py3-none-any.whl (1.5 MB)\n",
            "\u001b[K     |████████████████████████████████| 1.5 MB 40.7 MB/s \n",
            "\u001b[?25hRequirement already satisfied: google-auth>=1.6.1 in /usr/local/lib/python3.7/dist-packages (from kfp) (1.28.0)\n",
            "Collecting requests_toolbelt>=0.8.0\n",
            "  Downloading requests_toolbelt-0.9.1-py2.py3-none-any.whl (54 kB)\n",
            "\u001b[K     |████████████████████████████████| 54 kB 2.2 MB/s \n",
            "\u001b[?25hRequirement already satisfied: cloudpickle in /usr/local/lib/python3.7/dist-packages (from kfp) (1.3.0)\n",
            "Collecting kfp-server-api<2.0.0,>=1.1.2\n",
            "  Downloading kfp-server-api-1.4.1.tar.gz (50 kB)\n",
            "\u001b[K     |████████████████████████████████| 50 kB 5.9 MB/s \n",
            "\u001b[?25hCollecting jsonschema>=3.0.1\n",
            "  Downloading jsonschema-3.2.0-py2.py3-none-any.whl (56 kB)\n",
            "\u001b[K     |████████████████████████████████| 56 kB 4.0 MB/s \n",
            "\u001b[?25hRequirement already satisfied: tabulate in /usr/local/lib/python3.7/dist-packages (from kfp) (0.8.9)\n",
            "Requirement already satisfied: click in /usr/local/lib/python3.7/dist-packages (from kfp) (7.1.2)\n",
            "Collecting Deprecated\n",
            "  Downloading Deprecated-1.2.12-py2.py3-none-any.whl (9.5 kB)\n",
            "Collecting strip-hints\n",
            "  Downloading strip-hints-0.1.9.tar.gz (30 kB)\n",
            "Collecting docstring-parser>=0.7.3\n",
            "  Downloading docstring_parser-0.7.3.tar.gz (13 kB)\n",
            "  Installing build dependencies ... \u001b[?25l\u001b[?25hdone\n",
            "  Getting requirements to build wheel ... \u001b[?25l\u001b[?25hdone\n",
            "    Preparing wheel metadata ... \u001b[?25l\u001b[?25hdone\n",
            "Collecting kfp-pipeline-spec<0.2.0,>=0.1.0\n",
            "  Downloading kfp_pipeline_spec-0.1.7-py3-none-any.whl (27 kB)\n",
            "Collecting fire>=0.3.1\n",
            "  Downloading fire-0.4.0.tar.gz (87 kB)\n",
            "\u001b[K     |████████████████████████████████| 87 kB 4.7 MB/s \n",
            "\u001b[?25hRequirement already satisfied: six in /usr/local/lib/python3.7/dist-packages (from fire>=0.3.1->kfp) (1.15.0)\n",
            "Requirement already satisfied: termcolor in /usr/local/lib/python3.7/dist-packages (from fire>=0.3.1->kfp) (1.1.0)\n",
            "Requirement already satisfied: cachetools<5.0,>=2.0.0 in /usr/local/lib/python3.7/dist-packages (from google-auth>=1.6.1->kfp) (4.2.1)\n",
            "Requirement already satisfied: pyasn1-modules>=0.2.1 in /usr/local/lib/python3.7/dist-packages (from google-auth>=1.6.1->kfp) (0.2.8)\n",
            "Requirement already satisfied: rsa<5,>=3.1.4 in /usr/local/lib/python3.7/dist-packages (from google-auth>=1.6.1->kfp) (4.7.2)\n",
            "Requirement already satisfied: setuptools>=40.3.0 in /usr/local/lib/python3.7/dist-packages (from google-auth>=1.6.1->kfp) (54.2.0)\n",
            "Requirement already satisfied: google-resumable-media<0.5.0dev,>=0.3.1 in /usr/local/lib/python3.7/dist-packages (from google-cloud-storage>=1.13.0->kfp) (0.4.1)\n",
            "Requirement already satisfied: google-cloud-core<2.0dev,>=1.0.0 in /usr/local/lib/python3.7/dist-packages (from google-cloud-storage>=1.13.0->kfp) (1.0.3)\n",
            "Requirement already satisfied: google-api-core<2.0.0dev,>=1.14.0 in /usr/local/lib/python3.7/dist-packages (from google-cloud-core<2.0dev,>=1.0.0->google-cloud-storage>=1.13.0->kfp) (1.26.2)\n",
            "Requirement already satisfied: googleapis-common-protos<2.0dev,>=1.6.0 in /usr/local/lib/python3.7/dist-packages (from google-api-core<2.0.0dev,>=1.14.0->google-cloud-core<2.0dev,>=1.0.0->google-cloud-storage>=1.13.0->kfp) (1.53.0)\n",
            "Requirement already satisfied: protobuf>=3.12.0 in /usr/local/lib/python3.7/dist-packages (from google-api-core<2.0.0dev,>=1.14.0->google-cloud-core<2.0dev,>=1.0.0->google-cloud-storage>=1.13.0->kfp) (3.12.4)\n",
            "Requirement already satisfied: pytz in /usr/local/lib/python3.7/dist-packages (from google-api-core<2.0.0dev,>=1.14.0->google-cloud-core<2.0dev,>=1.0.0->google-cloud-storage>=1.13.0->kfp) (2018.9)\n",
            "Requirement already satisfied: packaging>=14.3 in /usr/local/lib/python3.7/dist-packages (from google-api-core<2.0.0dev,>=1.14.0->google-cloud-core<2.0dev,>=1.0.0->google-cloud-storage>=1.13.0->kfp) (20.9)\n",
            "Requirement already satisfied: requests<3.0.0dev,>=2.18.0 in /usr/local/lib/python3.7/dist-packages (from google-api-core<2.0.0dev,>=1.14.0->google-cloud-core<2.0dev,>=1.0.0->google-cloud-storage>=1.13.0->kfp) (2.23.0)\n",
            "Requirement already satisfied: pyrsistent>=0.14.0 in /usr/local/lib/python3.7/dist-packages (from jsonschema>=3.0.1->kfp) (0.17.3)\n",
            "Requirement already satisfied: attrs>=17.4.0 in /usr/local/lib/python3.7/dist-packages (from jsonschema>=3.0.1->kfp) (20.3.0)\n",
            "Requirement already satisfied: importlib-metadata in /usr/local/lib/python3.7/dist-packages (from jsonschema>=3.0.1->kfp) (3.8.1)\n",
            "Collecting protobuf>=3.12.0\n",
            "  Downloading protobuf-3.15.6-cp37-cp37m-manylinux1_x86_64.whl (1.0 MB)\n",
            "\u001b[K     |████████████████████████████████| 1.0 MB 50.9 MB/s \n",
            "\u001b[?25hRequirement already satisfied: urllib3>=1.15 in /usr/local/lib/python3.7/dist-packages (from kfp-server-api<2.0.0,>=1.1.2->kfp) (1.24.3)\n",
            "Requirement already satisfied: certifi in /usr/local/lib/python3.7/dist-packages (from kfp-server-api<2.0.0,>=1.1.2->kfp) (2020.12.5)\n",
            "Requirement already satisfied: python-dateutil in /usr/local/lib/python3.7/dist-packages (from kfp-server-api<2.0.0,>=1.1.2->kfp) (2.8.1)\n",
            "Collecting websocket-client!=0.40.0,!=0.41.*,!=0.42.*,>=0.32.0\n",
            "  Downloading websocket_client-0.58.0-py2.py3-none-any.whl (61 kB)\n",
            "\u001b[K     |████████████████████████████████| 61 kB 6.0 MB/s \n",
            "\u001b[?25hRequirement already satisfied: requests-oauthlib in /usr/local/lib/python3.7/dist-packages (from kubernetes<12.0.0,>=8.0.0->kfp) (1.3.0)\n",
            "Requirement already satisfied: pyparsing>=2.0.2 in /usr/local/lib/python3.7/dist-packages (from packaging>=14.3->google-api-core<2.0.0dev,>=1.14.0->google-cloud-core<2.0dev,>=1.0.0->google-cloud-storage>=1.13.0->kfp) (2.4.7)\n",
            "Requirement already satisfied: pyasn1<0.5.0,>=0.4.6 in /usr/local/lib/python3.7/dist-packages (from pyasn1-modules>=0.2.1->google-auth>=1.6.1->kfp) (0.4.8)\n",
            "Requirement already satisfied: chardet<4,>=3.0.2 in /usr/local/lib/python3.7/dist-packages (from requests<3.0.0dev,>=2.18.0->google-api-core<2.0.0dev,>=1.14.0->google-cloud-core<2.0dev,>=1.0.0->google-cloud-storage>=1.13.0->kfp) (3.0.4)\n",
            "Requirement already satisfied: idna<3,>=2.5 in /usr/local/lib/python3.7/dist-packages (from requests<3.0.0dev,>=2.18.0->google-api-core<2.0.0dev,>=1.14.0->google-cloud-core<2.0dev,>=1.0.0->google-cloud-storage>=1.13.0->kfp) (2.10)\n",
            "Requirement already satisfied: wrapt<2,>=1.10 in /usr/local/lib/python3.7/dist-packages (from Deprecated->kfp) (1.12.1)\n",
            "Requirement already satisfied: zipp>=0.5 in /usr/local/lib/python3.7/dist-packages (from importlib-metadata->jsonschema>=3.0.1->kfp) (3.4.1)\n",
            "Requirement already satisfied: typing-extensions>=3.6.4 in /usr/local/lib/python3.7/dist-packages (from importlib-metadata->jsonschema>=3.0.1->kfp) (3.7.4.3)\n",
            "Requirement already satisfied: oauthlib>=3.0.0 in /usr/local/lib/python3.7/dist-packages (from requests-oauthlib->kubernetes<12.0.0,>=8.0.0->kfp) (3.1.0)\n",
            "Requirement already satisfied: wheel in /usr/local/lib/python3.7/dist-packages (from strip-hints->kfp) (0.36.2)\n",
            "Building wheels for collected packages: kfp, docstring-parser, fire, kfp-server-api, strip-hints\n",
            "  Building wheel for kfp (setup.py) ... \u001b[?25l\u001b[?25hdone\n",
            "  Created wheel for kfp: filename=kfp-1.4.0-py3-none-any.whl size=221064 sha256=1f5f3388433f0f38361071f019e0dcce75a371834865e631934bc7e06c466751\n",
            "  Stored in directory: /root/.cache/pip/wheels/bb/05/5f/a1535f5d75f3548a3ae4eeed513944f0474ac4884f64ba7835\n",
            "  Building wheel for docstring-parser (PEP 517) ... \u001b[?25l\u001b[?25hdone\n",
            "  Created wheel for docstring-parser: filename=docstring_parser-0.7.3-py3-none-any.whl size=19230 sha256=bbb55279fdd42f530873d0b2404799f28961a925ff74e694aabaaa368b479e17\n",
            "  Stored in directory: /root/.cache/pip/wheels/ac/ed/39/ecb2e36c2893bb7b1324f6def66a7b3369c0bfc36ed2e07bb3\n",
            "  Building wheel for fire (setup.py) ... \u001b[?25l\u001b[?25hdone\n",
            "  Created wheel for fire: filename=fire-0.4.0-py2.py3-none-any.whl size=115928 sha256=857a4fbb119cd6d451302f582467a6c6ce02104456ef0d844901cd0430d03378\n",
            "  Stored in directory: /root/.cache/pip/wheels/8a/67/fb/2e8a12fa16661b9d5af1f654bd199366799740a85c64981226\n",
            "  Building wheel for kfp-server-api (setup.py) ... \u001b[?25l\u001b[?25hdone\n",
            "  Created wheel for kfp-server-api: filename=kfp_server_api-1.4.1-py3-none-any.whl size=92262 sha256=68e5a9c85dd546ce9a42944c5e4f2bdfce121b00e21d922c21101d240e7048a5\n",
            "  Stored in directory: /root/.cache/pip/wheels/eb/87/de/e967039ae561f87c24197e6b14bf97df4c3a1208b5f4174426\n",
            "  Building wheel for strip-hints (setup.py) ... \u001b[?25l\u001b[?25hdone\n",
            "  Created wheel for strip-hints: filename=strip_hints-0.1.9-py2.py3-none-any.whl size=20993 sha256=f33f5f12188a2508bcc0789fc6fe7dc8da411cf0f2175a172a1c3d5f57ae6eeb\n",
            "  Stored in directory: /root/.cache/pip/wheels/2d/b8/4e/a3ec111d2db63cec88121bd7c0ab1a123bce3b55dd19dda5c1\n",
            "Successfully built kfp docstring-parser fire kfp-server-api strip-hints\n",
            "Installing collected packages: protobuf, websocket-client, PyYAML, strip-hints, requests-toolbelt, kubernetes, kfp-server-api, kfp-pipeline-spec, jsonschema, fire, docstring-parser, Deprecated, kfp\n",
            "\u001b[33m  WARNING: The script strip-hints is installed in '/root/.local/bin' which is not on PATH.\n",
            "  Consider adding this directory to PATH or, if you prefer to suppress this warning, use --no-warn-script-location.\u001b[0m\n",
            "\u001b[33m  WARNING: The script jsonschema is installed in '/root/.local/bin' which is not on PATH.\n",
            "  Consider adding this directory to PATH or, if you prefer to suppress this warning, use --no-warn-script-location.\u001b[0m\n",
            "\u001b[33m  WARNING: The scripts dsl-compile, dsl-compile-v2 and kfp are installed in '/root/.local/bin' which is not on PATH.\n",
            "  Consider adding this directory to PATH or, if you prefer to suppress this warning, use --no-warn-script-location.\u001b[0m\n",
            "\u001b[31mERROR: pip's dependency resolver does not currently take into account all the packages that are installed. This behaviour is the source of the following dependency conflicts.\n",
            "nbclient 0.5.3 requires jupyter-client>=6.1.5, but you have jupyter-client 5.3.5 which is incompatible.\u001b[0m\n",
            "Successfully installed Deprecated-1.2.12 PyYAML-5.4.1 docstring-parser-0.7.3 fire-0.4.0 jsonschema-3.2.0 kfp-1.4.0 kfp-pipeline-spec-0.1.7 kfp-server-api-1.4.1 kubernetes-11.0.0 protobuf-3.15.6 requests-toolbelt-0.9.1 strip-hints-0.1.9 websocket-client-0.58.0\n"
          ],
          "name": "stdout"
        },
        {
          "output_type": "display_data",
          "data": {
            "application/vnd.colab-display-data+json": {
              "pip_warning": {
                "packages": [
                  "google"
                ]
              }
            }
          },
          "metadata": {
            "tags": []
          }
        }
      ]
    },
    {
      "cell_type": "code",
      "metadata": {
        "id": "vOnYO8ZEiJP9"
      },
      "source": [
        "import kfp\n",
        "from kfp import dsl\n",
        "import kfp.components as comp"
      ],
      "execution_count": 11,
      "outputs": []
    },
    {
      "cell_type": "code",
      "metadata": {
        "id": "b1nYx6ahiJP-"
      },
      "source": [
        "def load_data_op():\n",
        "    return dsl.ContainerOp(\n",
        "        name = 'Load Data',\n",
        "        image = 'mavencodevv/load_nba:v.0.1',\n",
        "        arguments = [],\n",
        "        file_outputs={\n",
        "            'data': '/load_data/data'\n",
        "        }      \n",
        "    )"
      ],
      "execution_count": 12,
      "outputs": []
    },
    {
      "cell_type": "code",
      "metadata": {
        "id": "cjo1UX2RiJP-"
      },
      "source": [
        "def preprocess_op(data):\n",
        "    return dsl.ContainerOp(\n",
        "        name = 'Preprocess Data',\n",
        "        image = 'mavencodevv/preprocess_nba:v.0.1',\n",
        "        arguments = ['--data', data],\n",
        "        file_outputs={\n",
        "            'clean_data': '/preprocess/clean_data'   \n",
        "        }\n",
        "    )"
      ],
      "execution_count": 13,
      "outputs": []
    },
    {
      "cell_type": "code",
      "metadata": {
        "id": "ByfNt_sAiJP-"
      },
      "source": [
        "def rf_op(clean_data):\n",
        "    return dsl.ContainerOp(\n",
        "        name = 'Randomforest',\n",
        "        image = 'mavencodevv/rf_nba:v.0.2',\n",
        "        arguments = ['--clean_data', clean_data\n",
        "            ],\n",
        "        file_outputs={\n",
        "            'rf_metrics': '/randomforest/rf_metrics' \n",
        "        }\n",
        "    )"
      ],
      "execution_count": 14,
      "outputs": []
    },
    {
      "cell_type": "code",
      "metadata": {
        "id": "TSKGJ9eIN-t4"
      },
      "source": [
        "def gbc_op(clean_data):\n",
        "    return dsl.ContainerOp(\n",
        "        name = 'GBC',\n",
        "        image = 'mavencodevv/gbc_nba:v.0.2',\n",
        "        arguments = ['--clean_data', clean_data\n",
        "            ],\n",
        "        file_outputs={\n",
        "            'gbc_metrics': '/gbc/gbc_metrics' \n",
        "        }\n",
        "    )"
      ],
      "execution_count": 15,
      "outputs": []
    },
    {
      "cell_type": "code",
      "metadata": {
        "id": "NQbnf_-3QcL3"
      },
      "source": [
        "def lr_op(clean_data):\n",
        "    return dsl.ContainerOp(\n",
        "        name = 'Logistic Regression',\n",
        "        image = 'mavencodevv/lr_nba:v.0.2',\n",
        "        arguments = ['--clean_data', clean_data\n",
        "            ],\n",
        "        file_outputs={\n",
        "            'lr_metrics': '/lr/lr_metrics' \n",
        "        }\n",
        "    )"
      ],
      "execution_count": 16,
      "outputs": []
    },
    {
      "cell_type": "code",
      "metadata": {
        "id": "KjE1UH9Fm-et"
      },
      "source": [
        "def results(rf_metrics,gbc_metrics,lr_metrics):\n",
        "    return dsl.ContainerOp(\n",
        "        name = 'Results',\n",
        "        image = 'mavencodevv/results_nba:v.0.1',\n",
        "        arguments = ['--rf_metrics', rf_metrics,\n",
        "                     '--gbc_metrics', gbc_metrics,\n",
        "                     '--lr_metrics', lr_metrics\n",
        "                     ] \n",
        "        \n",
        "    )"
      ],
      "execution_count": 17,
      "outputs": []
    },
    {
      "cell_type": "code",
      "metadata": {
        "id": "Ck-jPduHiJP_"
      },
      "source": [
        "@dsl.pipeline(\n",
        "    name='Shot Result Prediction',\n",
        "   description='An ML reusable pipeline that predicts whether a shot from an NBA player will go in or not'\n",
        ")\n",
        "\n",
        "# Define parameters to be fed into pipeline\n",
        "def nba_pipeline(): \n",
        "\n",
        "  _load_data_op = load_data_op()\n",
        "    \n",
        "  _preprocess_op = preprocess_op(\n",
        "        dsl.InputArgumentPath(_load_data_op.outputs['data'])).after(_load_data_op)\n",
        "    \n",
        "  _rf_op = rf_op(\n",
        "        dsl.InputArgumentPath(_preprocess_op.outputs['clean_data'])).after(_preprocess_op)\n",
        "\n",
        "  _gbc_op = gbc_op(\n",
        "        dsl.InputArgumentPath(_preprocess_op.outputs['clean_data'])).after(_preprocess_op)\n",
        "  _lr_op = lr_op(\n",
        "        dsl.InputArgumentPath(_preprocess_op.outputs['clean_data'])).after(_preprocess_op)\n",
        "   \n",
        "  _results_op = results(\n",
        "        dsl.InputArgumentPath(_rf_op.outputs['rf_metrics']),\n",
        "        dsl.InputArgumentPath(_gbc_op.outputs['gbc_metrics']),\n",
        "        dsl.InputArgumentPath(_lr_op.outputs['lr_metrics'])).after(_rf_op,_gbc_op,_lr_op)\n",
        "    "
      ],
      "execution_count": 18,
      "outputs": []
    },
    {
      "cell_type": "code",
      "metadata": {
        "colab": {
          "base_uri": "https://localhost:8080/"
        },
        "id": "X0wzVHqBiJP_",
        "outputId": "661625fd-2f80-496e-8021-84903f9b5434"
      },
      "source": [
        "# Compile pipeline to generate compressed YAML definition of the pipeline.\n",
        "experiment_name = 'nba_pipeline'\n",
        "#kfp.compiler.Compiler().compile(churn_reuseable_tensorflow_pipeline,  \n",
        "#  '{}.zip'.format(experiment_name))\n",
        "kfp.compiler.Compiler().compile(nba_pipeline, '{}.yaml'.format(experiment_name))"
      ],
      "execution_count": 19,
      "outputs": [
        {
          "output_type": "stream",
          "text": [
            "/root/.local/lib/python3.7/site-packages/kfp/dsl/_container_op.py:1039: FutureWarning: Please create reusable components instead of constructing ContainerOp instances directly. Reusable components are shareable, portable and have compatibility and support guarantees. Please see the documentation: https://www.kubeflow.org/docs/pipelines/sdk/component-development/#writing-your-component-definition-file The components can be created manually (or, in case of python, using kfp.components.create_component_from_func or func_to_container_op) and then loaded using kfp.components.load_component_from_file, load_component_from_uri or load_component_from_text: https://kubeflow-pipelines.readthedocs.io/en/stable/source/kfp.components.html#kfp.components.load_component_from_file\n",
            "  category=FutureWarning,\n"
          ],
          "name": "stderr"
        }
      ]
    },
    {
      "cell_type": "code",
      "metadata": {
        "id": "FOuAOmySiJQA"
      },
      "source": [
        "#client = kfp.Client()\n",
        "#client.create_run_from_pipeline_func(nba_pipeline, arguments={})"
      ],
      "execution_count": null,
      "outputs": []
    },
    {
      "cell_type": "code",
      "metadata": {
        "id": "TTbQZ7rgL6ha"
      },
      "source": [
        ""
      ],
      "execution_count": null,
      "outputs": []
    }
  ]
}