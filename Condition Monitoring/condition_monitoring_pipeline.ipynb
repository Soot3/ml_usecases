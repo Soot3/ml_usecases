{
  "nbformat": 4,
  "nbformat_minor": 0,
  "metadata": {
    "kernelspec": {
      "display_name": "Python 3",
      "language": "python",
      "name": "python3"
    },
    "language_info": {
      "codemirror_mode": {
        "name": "ipython",
        "version": 3
      },
      "file_extension": ".py",
      "mimetype": "text/x-python",
      "name": "python",
      "nbconvert_exporter": "python",
      "pygments_lexer": "ipython3",
      "version": "3.6.9"
    },
    "colab": {
      "name": "condition_monitoring_pipeline",
      "provenance": []
    }
  },
  "cells": [
    {
      "cell_type": "code",
      "metadata": {
        "colab": {
          "base_uri": "https://localhost:8080/"
        },
        "id": "6osdTB0yiJPy",
        "outputId": "195d72bf-9594-4d1e-bbe5-72527d89e238"
      },
      "source": [
        "!python -m pip install --user --upgrade pip"
      ],
      "execution_count": null,
      "outputs": [
        {
          "output_type": "stream",
          "text": [
            "Collecting pip\n",
            "\u001b[?25l  Downloading https://files.pythonhosted.org/packages/fe/ef/60d7ba03b5c442309ef42e7d69959f73aacccd0d86008362a681c4698e83/pip-21.0.1-py3-none-any.whl (1.5MB)\n",
            "\u001b[K     |████████████████████████████████| 1.5MB 7.7MB/s \n",
            "\u001b[?25hInstalling collected packages: pip\n",
            "\u001b[33m  WARNING: The scripts pip, pip3 and pip3.7 are installed in '/root/.local/bin' which is not on PATH.\n",
            "  Consider adding this directory to PATH or, if you prefer to suppress this warning, use --no-warn-script-location.\u001b[0m\n",
            "Successfully installed pip-21.0.1\n"
          ],
          "name": "stdout"
        }
      ]
    },
    {
      "cell_type": "code",
      "metadata": {
        "colab": {
          "base_uri": "https://localhost:8080/",
          "height": 1000
        },
        "id": "B_RtgcNyiJP8",
        "outputId": "a71384d2-4faf-4589-d9ac-9621c57a0806"
      },
      "source": [
        "!pip3 install kfp --upgrade --user"
      ],
      "execution_count": null,
      "outputs": [
        {
          "output_type": "stream",
          "text": [
            "WARNING: pip is being invoked by an old script wrapper. This will fail in a future version of pip.\n",
            "Please see https://github.com/pypa/pip/issues/5599 for advice on fixing the underlying issue.\n",
            "To avoid this problem you can invoke Python with '-m pip' instead of running pip directly.\n",
            "Collecting kfp\n",
            "  Downloading kfp-1.4.0.tar.gz (159 kB)\n",
            "\u001b[K     |████████████████████████████████| 159 kB 8.4 MB/s \n",
            "\u001b[?25hCollecting PyYAML>=5.3\n",
            "  Downloading PyYAML-5.4.1-cp37-cp37m-manylinux1_x86_64.whl (636 kB)\n",
            "\u001b[K     |████████████████████████████████| 636 kB 11.0 MB/s \n",
            "\u001b[?25hRequirement already satisfied: google-cloud-storage>=1.13.0 in /usr/local/lib/python3.7/dist-packages (from kfp) (1.18.1)\n",
            "Collecting kubernetes<12.0.0,>=8.0.0\n",
            "  Downloading kubernetes-11.0.0-py3-none-any.whl (1.5 MB)\n",
            "\u001b[K     |████████████████████████████████| 1.5 MB 16.2 MB/s \n",
            "\u001b[?25hRequirement already satisfied: google-auth>=1.6.1 in /usr/local/lib/python3.7/dist-packages (from kfp) (1.27.0)\n",
            "Collecting requests_toolbelt>=0.8.0\n",
            "  Downloading requests_toolbelt-0.9.1-py2.py3-none-any.whl (54 kB)\n",
            "\u001b[K     |████████████████████████████████| 54 kB 2.3 MB/s \n",
            "\u001b[?25hRequirement already satisfied: cloudpickle in /usr/local/lib/python3.7/dist-packages (from kfp) (1.3.0)\n",
            "Collecting kfp-server-api<2.0.0,>=1.1.2\n",
            "  Downloading kfp-server-api-1.4.1.tar.gz (50 kB)\n",
            "\u001b[K     |████████████████████████████████| 50 kB 5.0 MB/s \n",
            "\u001b[?25hCollecting jsonschema>=3.0.1\n",
            "  Downloading jsonschema-3.2.0-py2.py3-none-any.whl (56 kB)\n",
            "\u001b[K     |████████████████████████████████| 56 kB 3.0 MB/s \n",
            "\u001b[?25hRequirement already satisfied: tabulate in /usr/local/lib/python3.7/dist-packages (from kfp) (0.8.9)\n",
            "Requirement already satisfied: click in /usr/local/lib/python3.7/dist-packages (from kfp) (7.1.2)\n",
            "Collecting Deprecated\n",
            "  Downloading Deprecated-1.2.11-py2.py3-none-any.whl (9.1 kB)\n",
            "Collecting strip-hints\n",
            "  Downloading strip-hints-0.1.9.tar.gz (30 kB)\n",
            "Collecting docstring-parser>=0.7.3\n",
            "  Downloading docstring_parser-0.7.3.tar.gz (13 kB)\n",
            "  Installing build dependencies ... \u001b[?25l\u001b[?25hdone\n",
            "  Getting requirements to build wheel ... \u001b[?25l\u001b[?25hdone\n",
            "    Preparing wheel metadata ... \u001b[?25l\u001b[?25hdone\n",
            "Collecting kfp-pipeline-spec<0.2.0,>=0.1.0\n",
            "  Downloading kfp_pipeline_spec-0.1.6-py3-none-any.whl (26 kB)\n",
            "Collecting fire>=0.3.1\n",
            "  Downloading fire-0.4.0.tar.gz (87 kB)\n",
            "\u001b[K     |████████████████████████████████| 87 kB 5.6 MB/s \n",
            "\u001b[?25hRequirement already satisfied: six in /usr/local/lib/python3.7/dist-packages (from fire>=0.3.1->kfp) (1.15.0)\n",
            "Requirement already satisfied: termcolor in /usr/local/lib/python3.7/dist-packages (from fire>=0.3.1->kfp) (1.1.0)\n",
            "Requirement already satisfied: cachetools<5.0,>=2.0.0 in /usr/local/lib/python3.7/dist-packages (from google-auth>=1.6.1->kfp) (4.2.1)\n",
            "Requirement already satisfied: setuptools>=40.3.0 in /usr/local/lib/python3.7/dist-packages (from google-auth>=1.6.1->kfp) (53.0.0)\n",
            "Requirement already satisfied: rsa<5,>=3.1.4 in /usr/local/lib/python3.7/dist-packages (from google-auth>=1.6.1->kfp) (4.7.2)\n",
            "Requirement already satisfied: pyasn1-modules>=0.2.1 in /usr/local/lib/python3.7/dist-packages (from google-auth>=1.6.1->kfp) (0.2.8)\n",
            "Requirement already satisfied: google-resumable-media<0.5.0dev,>=0.3.1 in /usr/local/lib/python3.7/dist-packages (from google-cloud-storage>=1.13.0->kfp) (0.4.1)\n",
            "Requirement already satisfied: google-cloud-core<2.0dev,>=1.0.0 in /usr/local/lib/python3.7/dist-packages (from google-cloud-storage>=1.13.0->kfp) (1.0.3)\n",
            "Requirement already satisfied: google-api-core<2.0.0dev,>=1.14.0 in /usr/local/lib/python3.7/dist-packages (from google-cloud-core<2.0dev,>=1.0.0->google-cloud-storage>=1.13.0->kfp) (1.16.0)\n",
            "Requirement already satisfied: requests<3.0.0dev,>=2.18.0 in /usr/local/lib/python3.7/dist-packages (from google-api-core<2.0.0dev,>=1.14.0->google-cloud-core<2.0dev,>=1.0.0->google-cloud-storage>=1.13.0->kfp) (2.23.0)\n",
            "Requirement already satisfied: protobuf>=3.4.0 in /usr/local/lib/python3.7/dist-packages (from google-api-core<2.0.0dev,>=1.14.0->google-cloud-core<2.0dev,>=1.0.0->google-cloud-storage>=1.13.0->kfp) (3.12.4)\n",
            "Requirement already satisfied: pytz in /usr/local/lib/python3.7/dist-packages (from google-api-core<2.0.0dev,>=1.14.0->google-cloud-core<2.0dev,>=1.0.0->google-cloud-storage>=1.13.0->kfp) (2018.9)\n",
            "Requirement already satisfied: googleapis-common-protos<2.0dev,>=1.6.0 in /usr/local/lib/python3.7/dist-packages (from google-api-core<2.0.0dev,>=1.14.0->google-cloud-core<2.0dev,>=1.0.0->google-cloud-storage>=1.13.0->kfp) (1.52.0)\n",
            "Requirement already satisfied: importlib-metadata in /usr/local/lib/python3.7/dist-packages (from jsonschema>=3.0.1->kfp) (3.7.0)\n",
            "Requirement already satisfied: attrs>=17.4.0 in /usr/local/lib/python3.7/dist-packages (from jsonschema>=3.0.1->kfp) (20.3.0)\n",
            "Requirement already satisfied: pyrsistent>=0.14.0 in /usr/local/lib/python3.7/dist-packages (from jsonschema>=3.0.1->kfp) (0.17.3)\n",
            "Collecting protobuf>=3.4.0\n",
            "  Downloading protobuf-3.15.3-cp37-cp37m-manylinux1_x86_64.whl (1.0 MB)\n",
            "\u001b[K     |████████████████████████████████| 1.0 MB 36.8 MB/s \n",
            "\u001b[?25hRequirement already satisfied: urllib3>=1.15 in /usr/local/lib/python3.7/dist-packages (from kfp-server-api<2.0.0,>=1.1.2->kfp) (1.24.3)\n",
            "Requirement already satisfied: certifi in /usr/local/lib/python3.7/dist-packages (from kfp-server-api<2.0.0,>=1.1.2->kfp) (2020.12.5)\n",
            "Requirement already satisfied: python-dateutil in /usr/local/lib/python3.7/dist-packages (from kfp-server-api<2.0.0,>=1.1.2->kfp) (2.8.1)\n",
            "Requirement already satisfied: requests-oauthlib in /usr/local/lib/python3.7/dist-packages (from kubernetes<12.0.0,>=8.0.0->kfp) (1.3.0)\n",
            "Collecting websocket-client!=0.40.0,!=0.41.*,!=0.42.*,>=0.32.0\n",
            "  Downloading websocket_client-0.57.0-py2.py3-none-any.whl (200 kB)\n",
            "\u001b[K     |████████████████████████████████| 200 kB 49.8 MB/s \n",
            "\u001b[?25hRequirement already satisfied: pyasn1<0.5.0,>=0.4.6 in /usr/local/lib/python3.7/dist-packages (from pyasn1-modules>=0.2.1->google-auth>=1.6.1->kfp) (0.4.8)\n",
            "Requirement already satisfied: idna<3,>=2.5 in /usr/local/lib/python3.7/dist-packages (from requests<3.0.0dev,>=2.18.0->google-api-core<2.0.0dev,>=1.14.0->google-cloud-core<2.0dev,>=1.0.0->google-cloud-storage>=1.13.0->kfp) (2.10)\n",
            "Requirement already satisfied: chardet<4,>=3.0.2 in /usr/local/lib/python3.7/dist-packages (from requests<3.0.0dev,>=2.18.0->google-api-core<2.0.0dev,>=1.14.0->google-cloud-core<2.0dev,>=1.0.0->google-cloud-storage>=1.13.0->kfp) (3.0.4)\n",
            "Requirement already satisfied: wrapt<2,>=1.10 in /usr/local/lib/python3.7/dist-packages (from Deprecated->kfp) (1.12.1)\n",
            "Requirement already satisfied: typing-extensions>=3.6.4 in /usr/local/lib/python3.7/dist-packages (from importlib-metadata->jsonschema>=3.0.1->kfp) (3.7.4.3)\n",
            "Requirement already satisfied: zipp>=0.5 in /usr/local/lib/python3.7/dist-packages (from importlib-metadata->jsonschema>=3.0.1->kfp) (3.4.0)\n",
            "Requirement already satisfied: oauthlib>=3.0.0 in /usr/local/lib/python3.7/dist-packages (from requests-oauthlib->kubernetes<12.0.0,>=8.0.0->kfp) (3.1.0)\n",
            "Requirement already satisfied: wheel in /usr/local/lib/python3.7/dist-packages (from strip-hints->kfp) (0.36.2)\n",
            "Building wheels for collected packages: kfp, docstring-parser, fire, kfp-server-api, strip-hints\n",
            "  Building wheel for kfp (setup.py) ... \u001b[?25l\u001b[?25hdone\n",
            "  Created wheel for kfp: filename=kfp-1.4.0-py3-none-any.whl size=221064 sha256=9d68fe4be50ff07f628a20aec916ea35cd1d83f5f3cf5bfe391d6dcd25d7bf58\n",
            "  Stored in directory: /root/.cache/pip/wheels/bb/05/5f/a1535f5d75f3548a3ae4eeed513944f0474ac4884f64ba7835\n",
            "  Building wheel for docstring-parser (PEP 517) ... \u001b[?25l\u001b[?25hdone\n",
            "  Created wheel for docstring-parser: filename=docstring_parser-0.7.3-py3-none-any.whl size=19230 sha256=a227a6ba122f5bf222eb3a329d39d8ea8cc2e7d10be5973a25e488fefe3735dc\n",
            "  Stored in directory: /root/.cache/pip/wheels/ac/ed/39/ecb2e36c2893bb7b1324f6def66a7b3369c0bfc36ed2e07bb3\n",
            "  Building wheel for fire (setup.py) ... \u001b[?25l\u001b[?25hdone\n",
            "  Created wheel for fire: filename=fire-0.4.0-py2.py3-none-any.whl size=115928 sha256=12d56caf55b694a036c56901c29a80c423f23860c47486d0c7b6b8b0823d706b\n",
            "  Stored in directory: /root/.cache/pip/wheels/8a/67/fb/2e8a12fa16661b9d5af1f654bd199366799740a85c64981226\n",
            "  Building wheel for kfp-server-api (setup.py) ... \u001b[?25l\u001b[?25hdone\n",
            "  Created wheel for kfp-server-api: filename=kfp_server_api-1.4.1-py3-none-any.whl size=92262 sha256=eef627472c90e7d85a375b54afb91266d5561d93dd25780a0a6b1e4deca51e85\n",
            "  Stored in directory: /root/.cache/pip/wheels/eb/87/de/e967039ae561f87c24197e6b14bf97df4c3a1208b5f4174426\n",
            "  Building wheel for strip-hints (setup.py) ... \u001b[?25l\u001b[?25hdone\n",
            "  Created wheel for strip-hints: filename=strip_hints-0.1.9-py2.py3-none-any.whl size=20993 sha256=f44a6f3e27ab3018d582bb5c9282ec85568056e7e1d37c1eb23f1da42b233e9f\n",
            "  Stored in directory: /root/.cache/pip/wheels/2d/b8/4e/a3ec111d2db63cec88121bd7c0ab1a123bce3b55dd19dda5c1\n",
            "Successfully built kfp docstring-parser fire kfp-server-api strip-hints\n",
            "Installing collected packages: protobuf, websocket-client, PyYAML, strip-hints, requests-toolbelt, kubernetes, kfp-server-api, kfp-pipeline-spec, jsonschema, fire, docstring-parser, Deprecated, kfp\n",
            "\u001b[33m  WARNING: The script strip-hints is installed in '/root/.local/bin' which is not on PATH.\n",
            "  Consider adding this directory to PATH or, if you prefer to suppress this warning, use --no-warn-script-location.\u001b[0m\n",
            "\u001b[33m  WARNING: The script jsonschema is installed in '/root/.local/bin' which is not on PATH.\n",
            "  Consider adding this directory to PATH or, if you prefer to suppress this warning, use --no-warn-script-location.\u001b[0m\n",
            "\u001b[33m  WARNING: The scripts dsl-compile, dsl-compile-v2 and kfp are installed in '/root/.local/bin' which is not on PATH.\n",
            "  Consider adding this directory to PATH or, if you prefer to suppress this warning, use --no-warn-script-location.\u001b[0m\n",
            "\u001b[31mERROR: pip's dependency resolver does not currently take into account all the packages that are installed. This behaviour is the source of the following dependency conflicts.\n",
            "nbclient 0.5.2 requires jupyter-client>=6.1.5, but you have jupyter-client 5.3.5 which is incompatible.\u001b[0m\n",
            "Successfully installed Deprecated-1.2.11 PyYAML-5.4.1 docstring-parser-0.7.3 fire-0.4.0 jsonschema-3.2.0 kfp-1.4.0 kfp-pipeline-spec-0.1.6 kfp-server-api-1.4.1 kubernetes-11.0.0 protobuf-3.15.3 requests-toolbelt-0.9.1 strip-hints-0.1.9 websocket-client-0.57.0\n"
          ],
          "name": "stdout"
        },
        {
          "output_type": "display_data",
          "data": {
            "application/vnd.colab-display-data+json": {
              "pip_warning": {
                "packages": [
                  "google"
                ]
              }
            }
          },
          "metadata": {
            "tags": []
          }
        }
      ]
    },
    {
      "cell_type": "code",
      "metadata": {
        "id": "vOnYO8ZEiJP9"
      },
      "source": [
        "import kfp\n",
        "from kfp import dsl\n",
        "import kfp.components as comp"
      ],
      "execution_count": null,
      "outputs": []
    },
    {
      "cell_type": "code",
      "metadata": {
        "id": "b1nYx6ahiJP-"
      },
      "source": [
        "def load_data_op():\n",
        "    return dsl.ContainerOp(\n",
        "        name = 'Load Data',\n",
        "        image = 'mavencodevv/load_cm:v.0.2',\n",
        "        arguments = [],\n",
        "        file_outputs={\n",
        "            'data': '/load_data/data'\n",
        "        }      \n",
        "    )"
      ],
      "execution_count": null,
      "outputs": []
    },
    {
      "cell_type": "code",
      "metadata": {
        "id": "cjo1UX2RiJP-"
      },
      "source": [
        "def preprocess_op(data):\n",
        "    return dsl.ContainerOp(\n",
        "        name = 'Preprocess Data',\n",
        "        image = 'mavencodevv/preprocess_cm:v.0.1',\n",
        "        arguments = ['--data', data],\n",
        "        file_outputs={\n",
        "            'clean_data': '/preprocess/clean_data'   \n",
        "        }\n",
        "    )"
      ],
      "execution_count": null,
      "outputs": []
    },
    {
      "cell_type": "code",
      "metadata": {
        "id": "ByfNt_sAiJP-"
      },
      "source": [
        "def autoencoder_op(clean_data):\n",
        "    return dsl.ContainerOp(\n",
        "        name = 'Autoencoder model',\n",
        "        image = 'mavencodevv/train_cm:v.0.3',\n",
        "        arguments = ['--clean_data', clean_data\n",
        "            ],\n",
        "        file_outputs={\n",
        "            'fit_model': '/train_keras/fit_model' \n",
        "        }\n",
        "    )"
      ],
      "execution_count": null,
      "outputs": []
    },
    {
      "cell_type": "code",
      "metadata": {
        "id": "jHeMirs9mHUI"
      },
      "source": [
        "def pca_op(clean_data):\r\n",
        "  return dsl.ContainerOp(\r\n",
        "      name = \"PCA model\",\r\n",
        "      image = \"mavencodevv/pca_cm:v.0.1\",\r\n",
        "      arguments = ['--clean_data', clean_data],\r\n",
        "      file_outputs = {'pca_metrics': '/pca/pca_metrics'}\r\n",
        "  )"
      ],
      "execution_count": null,
      "outputs": []
    },
    {
      "cell_type": "code",
      "metadata": {
        "id": "x1nPLdtziJP_"
      },
      "source": [
        "def test_op(clean_data, fit_model):\n",
        "    return dsl.ContainerOp(\n",
        "        name = 'Test autoencoder',\n",
        "        image = 'mavencodevv/test_cm:v.0.4',\n",
        "        arguments = ['--clean_data', clean_data,\n",
        "                    '--fit_model', fit_model\n",
        "            ],\n",
        "        file_outputs={\n",
        "            'metrics': '/test/metrics' \n",
        "        }\n",
        "    )"
      ],
      "execution_count": null,
      "outputs": []
    },
    {
      "cell_type": "code",
      "metadata": {
        "id": "KjE1UH9Fm-et"
      },
      "source": [
        "def results(metrics, pca_metrics):\r\n",
        "    return dsl.ContainerOp(\r\n",
        "        name = 'Results',\r\n",
        "        image = 'mavencodevv/results_cm:v.0.1',\r\n",
        "        arguments = ['--metrics', metrics,\r\n",
        "                    '--pca_metrics', pca_metrics\r\n",
        "            ] \r\n",
        "        \r\n",
        "    )"
      ],
      "execution_count": null,
      "outputs": []
    },
    {
      "cell_type": "code",
      "metadata": {
        "id": "Ck-jPduHiJP_"
      },
      "source": [
        "@dsl.pipeline(\n",
        "    name='Condition monitoring pipeline',\n",
        "   description='An ML reusable pipeline that monitors the wear and tear of a Factory machine'\n",
        ")\n",
        "\n",
        "# Define parameters to be fed into pipeline\n",
        "def cm_pipeline(): \n",
        "    \n",
        "    _load_data_op = load_data_op()\n",
        "    \n",
        "    _preprocess_op = preprocess_op(\n",
        "        dsl.InputArgumentPath(_load_data_op.outputs['data'])).after(_load_data_op)\n",
        "    \n",
        "    _autoencoder_op = autoencoder_op(\n",
        "        dsl.InputArgumentPath(_preprocess_op.outputs['clean_data'])).after(_preprocess_op)\n",
        "    _pca_op = pca_op(\n",
        "        dsl.InputArgumentPath(_preprocess_op.outputs['clean_data'])).after(_preprocess_op)\n",
        "    _test_op = test_op(\n",
        "        dsl.InputArgumentPath(_preprocess_op.outputs['clean_data']),\n",
        "        dsl.InputArgumentPath(_autoencoder_op.outputs['fit_model'])).after(_autoencoder_op)\n",
        "    _results_op = results(\n",
        "        dsl.InputArgumentPath(_test_op.outputs['metrics']),\n",
        "        dsl.InputArgumentPath(_pca_op.outputs['pca_metrics'])).after(_test_op,_pca_op)\n",
        "    "
      ],
      "execution_count": null,
      "outputs": []
    },
    {
      "cell_type": "code",
      "metadata": {
        "colab": {
          "base_uri": "https://localhost:8080/"
        },
        "id": "X0wzVHqBiJP_",
        "outputId": "0d8b32b9-c6a7-4292-8e43-ed3348fe9756"
      },
      "source": [
        "# Compile pipeline to generate compressed YAML definition of the pipeline.\n",
        "experiment_name = 'cm_pipeline'\n",
        "\n",
        "kfp.compiler.Compiler().compile(cm_pipeline, '{}.yaml'.format(experiment_name))"
      ],
      "execution_count": null,
      "outputs": [
        {
          "output_type": "stream",
          "text": [
            "/root/.local/lib/python3.7/site-packages/kfp/dsl/_container_op.py:1039: FutureWarning: Please create reusable components instead of constructing ContainerOp instances directly. Reusable components are shareable, portable and have compatibility and support guarantees. Please see the documentation: https://www.kubeflow.org/docs/pipelines/sdk/component-development/#writing-your-component-definition-file The components can be created manually (or, in case of python, using kfp.components.create_component_from_func or func_to_container_op) and then loaded using kfp.components.load_component_from_file, load_component_from_uri or load_component_from_text: https://kubeflow-pipelines.readthedocs.io/en/stable/source/kfp.components.html#kfp.components.load_component_from_file\n",
            "  category=FutureWarning,\n"
          ],
          "name": "stderr"
        }
      ]
    },
    {
      "cell_type": "code",
      "metadata": {
        "id": "FOuAOmySiJQA"
      },
      "source": [
        "client = kfp.Client()\n",
        "client.create_run_from_pipeline_func(cm_pipeline, arguments={})"
      ],
      "execution_count": null,
      "outputs": []
    },
    {
      "cell_type": "code",
      "metadata": {
        "id": "T3IV_m1aiJQA"
      },
      "source": [],
      "execution_count": null,
      "outputs": []
    }
  ]
}