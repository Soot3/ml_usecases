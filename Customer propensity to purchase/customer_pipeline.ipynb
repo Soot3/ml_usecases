{
 "cells": [
  {
   "cell_type": "code",
   "execution_count": 1,
   "metadata": {},
   "outputs": [
    {
     "name": "stdout",
     "output_type": "stream",
     "text": [
      "Requirement already satisfied: pip in ./.local/lib/python3.6/site-packages (21.1.1)\n",
      "Collecting pip\n",
      "  Downloading pip-21.1.2-py3-none-any.whl (1.5 MB)\n",
      "\u001b[K     |████████████████████████████████| 1.5 MB 6.9 MB/s eta 0:00:01\n",
      "\u001b[?25hInstalling collected packages: pip\n",
      "  Attempting uninstall: pip\n",
      "    Found existing installation: pip 21.1.1\n",
      "    Uninstalling pip-21.1.1:\n",
      "      Successfully uninstalled pip-21.1.1\n",
      "\u001b[33m  WARNING: The scripts pip, pip3 and pip3.6 are installed in '/home/jovyan/.local/bin' which is not on PATH.\n",
      "  Consider adding this directory to PATH or, if you prefer to suppress this warning, use --no-warn-script-location.\u001b[0m\n",
      "Successfully installed pip-21.1.2\n"
     ]
    }
   ],
   "source": [
    "!python -m pip install --user --upgrade pip"
   ]
  },
  {
   "cell_type": "code",
   "execution_count": 2,
   "metadata": {},
   "outputs": [
    {
     "name": "stdout",
     "output_type": "stream",
     "text": [
      "Requirement already satisfied: pip in ./.local/lib/python3.6/site-packages (21.1.2)\r\n"
     ]
    }
   ],
   "source": [
    "!python -m pip install --user --upgrade pip"
   ]
  },
  {
   "cell_type": "code",
   "execution_count": 3,
   "metadata": {},
   "outputs": [],
   "source": [
    "import kfp\n",
    "from kfp import dsl\n",
    "import kfp.components as comp"
   ]
  },
  {
   "cell_type": "code",
   "execution_count": 4,
   "metadata": {},
   "outputs": [],
   "source": [
    "def load_data_op():\n",
    "    return dsl.ContainerOp(\n",
    "        name = 'Load Data',\n",
    "        image = 'mavencodev/load_customer:v.0.1',\n",
    "        arguments = [],\n",
    "        file_outputs={\n",
    "            'data': '/load_data/data'\n",
    "        }      \n",
    "    )"
   ]
  },
  {
   "cell_type": "code",
   "execution_count": 5,
   "metadata": {},
   "outputs": [],
   "source": [
    "def stat_op(data):\n",
    "    return dsl.ContainerOp(\n",
    "        name = 'Dataset Statistics',\n",
    "        image =  'mavendevv/stat2_customer:v.0.1', #'mavencodev/stat_customer:v.0.18',\n",
    "        arguments = ['--data', data],\n",
    "        file_outputs={\n",
    "            'stats': '/statgen/stats',\n",
    "            'mlpipeline-ui-metadata': '/mlpipeline-ui-metadata.json'\n",
    "        }\n",
    "    )"
   ]
  },
  {
   "cell_type": "code",
   "execution_count": 6,
   "metadata": {},
   "outputs": [
    {
     "data": {
      "text/plain": [
       "\"def schema_op(stats):\\n    return dsl.ContainerOp(\\n        name = 'Dataset Schema',\\n        image = 'mavendevv/schema_customer6:v.0.2', #'mavendevv/schema5_cust:v.0.2',\\n        arguments = ['--stats', stats],\\n        file_outputs={\\n            'schema': '/schema/schema',\\n            'mlpipeline-ui-metadata': '/mlpipeline-ui-metadata.json'\\n        }      \\n    )\""
      ]
     },
     "execution_count": 6,
     "metadata": {},
     "output_type": "execute_result"
    }
   ],
   "source": [
    "'''def schema_op(stats):\n",
    "    return dsl.ContainerOp(\n",
    "        name = 'Dataset Schema',\n",
    "        image = 'mavendevv/schema_customer6:v.0.2', #'mavendevv/schema5_cust:v.0.2',\n",
    "        arguments = ['--stats', stats],\n",
    "        file_outputs={\n",
    "            'schema': '/schema/schema',\n",
    "            'mlpipeline-ui-metadata': '/mlpipeline-ui-metadata.json'\n",
    "        }      \n",
    "    )'''"
   ]
  },
  {
   "cell_type": "code",
   "execution_count": 7,
   "metadata": {},
   "outputs": [],
   "source": [
    "def schema_op(stats):\n",
    "    return dsl.ContainerOp(\n",
    "        name = 'Dataset Schema',\n",
    "        image = 'mavendevv/schema_customer8:v.0.2', #'mavendevv/schema5_cust:v.0.2',\n",
    "        arguments = ['--stats', stats],\n",
    "        file_outputs={\n",
    "            'schema': '/schema/schema'\n",
    "        }      \n",
    "    )"
   ]
  },
  {
   "cell_type": "code",
   "execution_count": 8,
   "metadata": {},
   "outputs": [],
   "source": [
    "#mavendevv/schema_customer2:v.0.2"
   ]
  },
  {
   "cell_type": "code",
   "execution_count": 9,
   "metadata": {},
   "outputs": [],
   "source": [
    "def val_op(stats, schema):\n",
    "    return dsl.ContainerOp(\n",
    "        name = 'Dataset Validation',\n",
    "        image = 'mavencodev/valid_customer:v.0.3',\n",
    "        arguments = ['--stats', stats, '--schema', schema],\n",
    "        file_outputs={\n",
    "            'mlpipeline-ui-metadata': '/mlpipeline-ui-metadata.json'}\n",
    "    )"
   ]
  },
  {
   "cell_type": "code",
   "execution_count": 10,
   "metadata": {},
   "outputs": [],
   "source": [
    "def preprocess_op(data):\n",
    "    return dsl.ContainerOp(\n",
    "        name = 'Preprocess Data',\n",
    "        image = 'mavendevv/preprocess_customer2:v.0.2',\n",
    "        arguments = ['--data', data],\n",
    "        file_outputs={\n",
    "            'clean_data': '/preprocess/clean_data'   \n",
    "        }\n",
    "    )"
   ]
  },
  {
   "cell_type": "code",
   "execution_count": 11,
   "metadata": {},
   "outputs": [],
   "source": [
    "def lr_op(clean_data):\n",
    "    return dsl.ContainerOp(\n",
    "        name = 'Logistic Regression',\n",
    "        image = 'mavendevv/logistic_customer3:v.0.1',\n",
    "        arguments = ['--clean_data', clean_data\n",
    "            ],\n",
    "        file_outputs={\n",
    "            'lr_metrics': '/logistic/lr_metrics' \n",
    "        }\n",
    "    )"
   ]
  },
  {
   "cell_type": "code",
   "execution_count": 12,
   "metadata": {},
   "outputs": [],
   "source": [
    "def rf_op(clean_data):\n",
    "    return dsl.ContainerOp(\n",
    "        name = 'Randomforest',\n",
    "        image = 'mavencodev/rf_customer:v.0.1',\n",
    "        arguments = ['--clean_data', clean_data\n",
    "            ],\n",
    "        file_outputs={\n",
    "            'rf_metrics': '/randomforest/rf_metrics' \n",
    "        }\n",
    "    )"
   ]
  },
  {
   "cell_type": "code",
   "execution_count": 13,
   "metadata": {},
   "outputs": [],
   "source": [
    "def gnb_op(clean_data):\n",
    "    return dsl.ContainerOp(\n",
    "        name = 'Gaussian NB',\n",
    "        image = 'mavendevv/gnb_customer2:v.0.1',\n",
    "        arguments = ['--clean_data', clean_data\n",
    "            ],\n",
    "        file_outputs={\n",
    "            'gnb_metrics': '/gaussianNB/gnb_metrics' \n",
    "        }\n",
    "    )"
   ]
  },
  {
   "cell_type": "code",
   "execution_count": 14,
   "metadata": {},
   "outputs": [],
   "source": [
    "def eval_op(lr_metrics,rf_metrics,gnb_metrics):\n",
    "    return dsl.ContainerOp(\n",
    "        name = 'Model Evaluation',\n",
    "        image = 'mavencodev/eval_customer:v.0.3',\n",
    "        arguments = [ '--lr_metrics', lr_metrics,\n",
    "                     '--rf_metrics', rf_metrics,\n",
    "                     '--gnb_metrics', gnb_metrics\n",
    "                     ],\n",
    "                   \n",
    "        file_outputs={\n",
    "            'best_model': '/eval/best_model' \n",
    "        }    \n",
    "    )"
   ]
  },
  {
   "cell_type": "code",
   "execution_count": 15,
   "metadata": {},
   "outputs": [],
   "source": [
    "def push_op(bucket_name,credentials,best_model):\n",
    "    return dsl.ContainerOp(\n",
    "        name = 'Export Model to Cloud Storage',\n",
    "        image = 'mavencodev/push_customer',\n",
    "        arguments = ['--bucket_name', bucket_name,\n",
    "                     '--credentials', credentials,\n",
    "                     '--best_model',best_model\n",
    "                    ]\n",
    "  )"
   ]
  },
  {
   "cell_type": "code",
   "execution_count": 16,
   "metadata": {},
   "outputs": [],
   "source": [
    "@dsl.pipeline(\n",
    "    name='customer propensity Prediction',\n",
    "    description='An ML reusable pipeline that predicts the chances of a customer to purchase a product'\n",
    ")\n",
    "\n",
    "# Define parameters to be fed into pipeline\n",
    "def customer_pipeline(bucket_name, credentials): \n",
    "    \n",
    "    _load_data_op = load_data_op()\n",
    "    \n",
    "    _stat_op  = stat_op(\n",
    "        dsl.InputArgumentPath(_load_data_op.outputs['data'])).after(_load_data_op)\n",
    "    \n",
    "    _schema_op = schema_op(\n",
    "        dsl.InputArgumentPath(_stat_op.outputs['stats'])).after(_stat_op)\n",
    "    \n",
    "    _val_op = val_op(\n",
    "        dsl.InputArgumentPath(_stat_op.outputs['stats']),\n",
    "        dsl.InputArgumentPath(_schema_op.outputs['schema'])).after(_stat_op,_schema_op)\n",
    "    \n",
    "    _preprocess_op = preprocess_op(\n",
    "        dsl.InputArgumentPath(_load_data_op.outputs['data'])).after(_load_data_op,_val_op)\n",
    "    \n",
    "    _lr_op = lr_op(\n",
    "        dsl.InputArgumentPath(_preprocess_op.outputs['clean_data'])).after(_preprocess_op)\n",
    "    \n",
    "    _rf_op = rf_op(\n",
    "        dsl.InputArgumentPath(_preprocess_op.outputs['clean_data'])).after(_preprocess_op)\n",
    "    \n",
    "    _gnb_op = gnb_op(\n",
    "        dsl.InputArgumentPath(_preprocess_op.outputs['clean_data'])).after(_preprocess_op)\n",
    "    \n",
    "    _eval_op = eval_op(\n",
    "        dsl.InputArgumentPath(_lr_op.outputs['lr_metrics']),\n",
    "        dsl.InputArgumentPath(_rf_op.outputs['rf_metrics']),\n",
    "        dsl.InputArgumentPath(_gnb_op.outputs['gnb_metrics'])).after(_lr_op,_rf_op,_gnb_op)\n",
    "    \n",
    "    _push_op = push_op(bucket_name, credentials,\n",
    "        dsl.InputArgumentPath(_eval_op.outputs['best_model'])).after(_eval_op)"
   ]
  },
  {
   "cell_type": "code",
   "execution_count": 17,
   "metadata": {},
   "outputs": [
    {
     "name": "stderr",
     "output_type": "stream",
     "text": [
      "/home/jovyan/.local/lib/python3.6/site-packages/kfp/dsl/_container_op.py:1156: FutureWarning: Please create reusable components instead of constructing ContainerOp instances directly. Reusable components are shareable, portable and have compatibility and support guarantees. Please see the documentation: https://www.kubeflow.org/docs/pipelines/sdk/component-development/#writing-your-component-definition-file The components can be created manually (or, in case of python, using kfp.components.create_component_from_func or func_to_container_op) and then loaded using kfp.components.load_component_from_file, load_component_from_uri or load_component_from_text: https://kubeflow-pipelines.readthedocs.io/en/stable/source/kfp.components.html#kfp.components.load_component_from_file\n",
      "  category=FutureWarning,\n"
     ]
    }
   ],
   "source": [
    "# Compile pipeline to generate compressed YAML definition of the pipeline.\n",
    "experiment_name = 'customer_pipeline'\n",
    "\n",
    "kfp.compiler.Compiler().compile(customer_pipeline, '{}.yaml'.format(experiment_name))"
   ]
  },
  {
   "cell_type": "code",
   "execution_count": 18,
   "metadata": {},
   "outputs": [
    {
     "data": {
      "text/html": [
       "<a href=\"/pipeline/#/experiments/details/f961feb9-612f-4109-9c4a-80dfacf1520b\" target=\"_blank\" >Experiment details</a>."
      ],
      "text/plain": [
       "<IPython.core.display.HTML object>"
      ]
     },
     "metadata": {},
     "output_type": "display_data"
    },
    {
     "data": {
      "text/html": [
       "<a href=\"/pipeline/#/runs/details/08d0c1e8-118f-4322-b760-b06ef7e5549c\" target=\"_blank\" >Run details</a>."
      ],
      "text/plain": [
       "<IPython.core.display.HTML object>"
      ]
     },
     "metadata": {},
     "output_type": "display_data"
    },
    {
     "data": {
      "text/plain": [
       "RunPipelineResult(run_id=08d0c1e8-118f-4322-b760-b06ef7e5549c)"
      ]
     },
     "execution_count": 18,
     "metadata": {},
     "output_type": "execute_result"
    }
   ],
   "source": [
    "client = kfp.Client()\n",
    "client.create_run_from_pipeline_func(customer_pipeline, arguments={})"
   ]
  },
  {
   "cell_type": "code",
   "execution_count": null,
   "metadata": {},
   "outputs": [],
   "source": []
  }
 ],
 "metadata": {
  "kernelspec": {
   "display_name": "Python 3",
   "language": "python",
   "name": "python3"
  },
  "language_info": {
   "codemirror_mode": {
    "name": "ipython",
    "version": 3
   },
   "file_extension": ".py",
   "mimetype": "text/x-python",
   "name": "python",
   "nbconvert_exporter": "python",
   "pygments_lexer": "ipython3",
   "version": "3.6.9"
  }
 },
 "nbformat": 4,
 "nbformat_minor": 5
}
