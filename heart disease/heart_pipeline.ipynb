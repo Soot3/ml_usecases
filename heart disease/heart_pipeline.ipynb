{
  "nbformat": 4,
  "nbformat_minor": 0,
  "metadata": {
    "kernelspec": {
      "display_name": "Python 3",
      "language": "python",
      "name": "python3"
    },
    "language_info": {
      "codemirror_mode": {
        "name": "ipython",
        "version": 3
      },
      "file_extension": ".py",
      "mimetype": "text/x-python",
      "name": "python",
      "nbconvert_exporter": "python",
      "pygments_lexer": "ipython3",
      "version": "3.6.9"
    },
    "colab": {
      "name": "heart_pipeline",
      "provenance": [],
      "collapsed_sections": []
    }
  },
  "cells": [
    {
      "cell_type": "code",
      "metadata": {
        "colab": {
          "base_uri": "https://localhost:8080/"
        },
        "id": "6osdTB0yiJPy",
        "outputId": "8df0281e-4624-4939-fff3-da6d017b4cba"
      },
      "source": [
        "!python -m pip install --user --upgrade pip"
      ],
      "execution_count": 1,
      "outputs": [
        {
          "output_type": "stream",
          "text": [
            "Collecting pip\n",
            "\u001b[?25l  Downloading https://files.pythonhosted.org/packages/fe/ef/60d7ba03b5c442309ef42e7d69959f73aacccd0d86008362a681c4698e83/pip-21.0.1-py3-none-any.whl (1.5MB)\n",
            "\u001b[K     |████████████████████████████████| 1.5MB 5.5MB/s \n",
            "\u001b[?25hInstalling collected packages: pip\n",
            "\u001b[33m  WARNING: The scripts pip, pip3 and pip3.7 are installed in '/root/.local/bin' which is not on PATH.\n",
            "  Consider adding this directory to PATH or, if you prefer to suppress this warning, use --no-warn-script-location.\u001b[0m\n",
            "Successfully installed pip-21.0.1\n"
          ],
          "name": "stdout"
        }
      ]
    },
    {
      "cell_type": "code",
      "metadata": {
        "colab": {
          "base_uri": "https://localhost:8080/",
          "height": 1000
        },
        "id": "B_RtgcNyiJP8",
        "outputId": "6e4dfefb-26db-41cb-d47d-49e5f2e86fc5"
      },
      "source": [
        "!pip3 install kfp --upgrade --user"
      ],
      "execution_count": 2,
      "outputs": [
        {
          "output_type": "stream",
          "text": [
            "WARNING: pip is being invoked by an old script wrapper. This will fail in a future version of pip.\n",
            "Please see https://github.com/pypa/pip/issues/5599 for advice on fixing the underlying issue.\n",
            "To avoid this problem you can invoke Python with '-m pip' instead of running pip directly.\n",
            "Collecting kfp\n",
            "  Downloading kfp-1.4.0.tar.gz (159 kB)\n",
            "\u001b[K     |████████████████████████████████| 159 kB 5.8 MB/s \n",
            "\u001b[?25hCollecting PyYAML>=5.3\n",
            "  Downloading PyYAML-5.4.1-cp37-cp37m-manylinux1_x86_64.whl (636 kB)\n",
            "\u001b[K     |████████████████████████████████| 636 kB 49.8 MB/s \n",
            "\u001b[?25hRequirement already satisfied: google-cloud-storage>=1.13.0 in /usr/local/lib/python3.7/dist-packages (from kfp) (1.18.1)\n",
            "Collecting kubernetes<12.0.0,>=8.0.0\n",
            "  Downloading kubernetes-11.0.0-py3-none-any.whl (1.5 MB)\n",
            "\u001b[K     |████████████████████████████████| 1.5 MB 55.0 MB/s \n",
            "\u001b[?25hRequirement already satisfied: google-auth>=1.6.1 in /usr/local/lib/python3.7/dist-packages (from kfp) (1.28.0)\n",
            "Collecting requests_toolbelt>=0.8.0\n",
            "  Downloading requests_toolbelt-0.9.1-py2.py3-none-any.whl (54 kB)\n",
            "\u001b[K     |████████████████████████████████| 54 kB 1.7 MB/s \n",
            "\u001b[?25hRequirement already satisfied: cloudpickle in /usr/local/lib/python3.7/dist-packages (from kfp) (1.3.0)\n",
            "Collecting kfp-server-api<2.0.0,>=1.1.2\n",
            "  Downloading kfp-server-api-1.4.1.tar.gz (50 kB)\n",
            "\u001b[K     |████████████████████████████████| 50 kB 6.2 MB/s \n",
            "\u001b[?25hCollecting jsonschema>=3.0.1\n",
            "  Downloading jsonschema-3.2.0-py2.py3-none-any.whl (56 kB)\n",
            "\u001b[K     |████████████████████████████████| 56 kB 3.7 MB/s \n",
            "\u001b[?25hRequirement already satisfied: tabulate in /usr/local/lib/python3.7/dist-packages (from kfp) (0.8.9)\n",
            "Requirement already satisfied: click in /usr/local/lib/python3.7/dist-packages (from kfp) (7.1.2)\n",
            "Collecting Deprecated\n",
            "  Downloading Deprecated-1.2.12-py2.py3-none-any.whl (9.5 kB)\n",
            "Collecting strip-hints\n",
            "  Downloading strip-hints-0.1.9.tar.gz (30 kB)\n",
            "Collecting docstring-parser>=0.7.3\n",
            "  Downloading docstring_parser-0.7.3.tar.gz (13 kB)\n",
            "  Installing build dependencies ... \u001b[?25l\u001b[?25hdone\n",
            "  Getting requirements to build wheel ... \u001b[?25l\u001b[?25hdone\n",
            "    Preparing wheel metadata ... \u001b[?25l\u001b[?25hdone\n",
            "Collecting kfp-pipeline-spec<0.2.0,>=0.1.0\n",
            "  Downloading kfp_pipeline_spec-0.1.7-py3-none-any.whl (27 kB)\n",
            "Collecting fire>=0.3.1\n",
            "  Downloading fire-0.4.0.tar.gz (87 kB)\n",
            "\u001b[K     |████████████████████████████████| 87 kB 5.7 MB/s \n",
            "\u001b[?25hRequirement already satisfied: six in /usr/local/lib/python3.7/dist-packages (from fire>=0.3.1->kfp) (1.15.0)\n",
            "Requirement already satisfied: termcolor in /usr/local/lib/python3.7/dist-packages (from fire>=0.3.1->kfp) (1.1.0)\n",
            "Requirement already satisfied: cachetools<5.0,>=2.0.0 in /usr/local/lib/python3.7/dist-packages (from google-auth>=1.6.1->kfp) (4.2.1)\n",
            "Requirement already satisfied: rsa<5,>=3.1.4 in /usr/local/lib/python3.7/dist-packages (from google-auth>=1.6.1->kfp) (4.7.2)\n",
            "Requirement already satisfied: setuptools>=40.3.0 in /usr/local/lib/python3.7/dist-packages (from google-auth>=1.6.1->kfp) (54.2.0)\n",
            "Requirement already satisfied: pyasn1-modules>=0.2.1 in /usr/local/lib/python3.7/dist-packages (from google-auth>=1.6.1->kfp) (0.2.8)\n",
            "Requirement already satisfied: google-cloud-core<2.0dev,>=1.0.0 in /usr/local/lib/python3.7/dist-packages (from google-cloud-storage>=1.13.0->kfp) (1.0.3)\n",
            "Requirement already satisfied: google-resumable-media<0.5.0dev,>=0.3.1 in /usr/local/lib/python3.7/dist-packages (from google-cloud-storage>=1.13.0->kfp) (0.4.1)\n",
            "Requirement already satisfied: google-api-core<2.0.0dev,>=1.14.0 in /usr/local/lib/python3.7/dist-packages (from google-cloud-core<2.0dev,>=1.0.0->google-cloud-storage>=1.13.0->kfp) (1.26.2)\n",
            "Requirement already satisfied: protobuf>=3.12.0 in /usr/local/lib/python3.7/dist-packages (from google-api-core<2.0.0dev,>=1.14.0->google-cloud-core<2.0dev,>=1.0.0->google-cloud-storage>=1.13.0->kfp) (3.12.4)\n",
            "Requirement already satisfied: googleapis-common-protos<2.0dev,>=1.6.0 in /usr/local/lib/python3.7/dist-packages (from google-api-core<2.0.0dev,>=1.14.0->google-cloud-core<2.0dev,>=1.0.0->google-cloud-storage>=1.13.0->kfp) (1.53.0)\n",
            "Requirement already satisfied: packaging>=14.3 in /usr/local/lib/python3.7/dist-packages (from google-api-core<2.0.0dev,>=1.14.0->google-cloud-core<2.0dev,>=1.0.0->google-cloud-storage>=1.13.0->kfp) (20.9)\n",
            "Requirement already satisfied: requests<3.0.0dev,>=2.18.0 in /usr/local/lib/python3.7/dist-packages (from google-api-core<2.0.0dev,>=1.14.0->google-cloud-core<2.0dev,>=1.0.0->google-cloud-storage>=1.13.0->kfp) (2.23.0)\n",
            "Requirement already satisfied: pytz in /usr/local/lib/python3.7/dist-packages (from google-api-core<2.0.0dev,>=1.14.0->google-cloud-core<2.0dev,>=1.0.0->google-cloud-storage>=1.13.0->kfp) (2018.9)\n",
            "Requirement already satisfied: pyrsistent>=0.14.0 in /usr/local/lib/python3.7/dist-packages (from jsonschema>=3.0.1->kfp) (0.17.3)\n",
            "Requirement already satisfied: attrs>=17.4.0 in /usr/local/lib/python3.7/dist-packages (from jsonschema>=3.0.1->kfp) (20.3.0)\n",
            "Requirement already satisfied: importlib-metadata in /usr/local/lib/python3.7/dist-packages (from jsonschema>=3.0.1->kfp) (3.8.1)\n",
            "Collecting protobuf>=3.12.0\n",
            "  Downloading protobuf-3.15.8-cp37-cp37m-manylinux1_x86_64.whl (1.0 MB)\n",
            "\u001b[K     |████████████████████████████████| 1.0 MB 55.5 MB/s \n",
            "\u001b[?25hRequirement already satisfied: urllib3>=1.15 in /usr/local/lib/python3.7/dist-packages (from kfp-server-api<2.0.0,>=1.1.2->kfp) (1.24.3)\n",
            "Requirement already satisfied: certifi in /usr/local/lib/python3.7/dist-packages (from kfp-server-api<2.0.0,>=1.1.2->kfp) (2020.12.5)\n",
            "Requirement already satisfied: python-dateutil in /usr/local/lib/python3.7/dist-packages (from kfp-server-api<2.0.0,>=1.1.2->kfp) (2.8.1)\n",
            "Collecting websocket-client!=0.40.0,!=0.41.*,!=0.42.*,>=0.32.0\n",
            "  Downloading websocket_client-0.58.0-py2.py3-none-any.whl (61 kB)\n",
            "\u001b[K     |████████████████████████████████| 61 kB 6.6 MB/s \n",
            "\u001b[?25hRequirement already satisfied: requests-oauthlib in /usr/local/lib/python3.7/dist-packages (from kubernetes<12.0.0,>=8.0.0->kfp) (1.3.0)\n",
            "Requirement already satisfied: pyparsing>=2.0.2 in /usr/local/lib/python3.7/dist-packages (from packaging>=14.3->google-api-core<2.0.0dev,>=1.14.0->google-cloud-core<2.0dev,>=1.0.0->google-cloud-storage>=1.13.0->kfp) (2.4.7)\n",
            "Requirement already satisfied: pyasn1<0.5.0,>=0.4.6 in /usr/local/lib/python3.7/dist-packages (from pyasn1-modules>=0.2.1->google-auth>=1.6.1->kfp) (0.4.8)\n",
            "Requirement already satisfied: idna<3,>=2.5 in /usr/local/lib/python3.7/dist-packages (from requests<3.0.0dev,>=2.18.0->google-api-core<2.0.0dev,>=1.14.0->google-cloud-core<2.0dev,>=1.0.0->google-cloud-storage>=1.13.0->kfp) (2.10)\n",
            "Requirement already satisfied: chardet<4,>=3.0.2 in /usr/local/lib/python3.7/dist-packages (from requests<3.0.0dev,>=2.18.0->google-api-core<2.0.0dev,>=1.14.0->google-cloud-core<2.0dev,>=1.0.0->google-cloud-storage>=1.13.0->kfp) (3.0.4)\n",
            "Requirement already satisfied: wrapt<2,>=1.10 in /usr/local/lib/python3.7/dist-packages (from Deprecated->kfp) (1.12.1)\n",
            "Requirement already satisfied: typing-extensions>=3.6.4 in /usr/local/lib/python3.7/dist-packages (from importlib-metadata->jsonschema>=3.0.1->kfp) (3.7.4.3)\n",
            "Requirement already satisfied: zipp>=0.5 in /usr/local/lib/python3.7/dist-packages (from importlib-metadata->jsonschema>=3.0.1->kfp) (3.4.1)\n",
            "Requirement already satisfied: oauthlib>=3.0.0 in /usr/local/lib/python3.7/dist-packages (from requests-oauthlib->kubernetes<12.0.0,>=8.0.0->kfp) (3.1.0)\n",
            "Requirement already satisfied: wheel in /usr/local/lib/python3.7/dist-packages (from strip-hints->kfp) (0.36.2)\n",
            "Building wheels for collected packages: kfp, docstring-parser, fire, kfp-server-api, strip-hints\n",
            "  Building wheel for kfp (setup.py) ... \u001b[?25l\u001b[?25hdone\n",
            "  Created wheel for kfp: filename=kfp-1.4.0-py3-none-any.whl size=221064 sha256=e076af75f4fcfe68fc28f946d4ed8fd96b26923c43d025b8f2c2e8c1c8c0df43\n",
            "  Stored in directory: /root/.cache/pip/wheels/bb/05/5f/a1535f5d75f3548a3ae4eeed513944f0474ac4884f64ba7835\n",
            "  Building wheel for docstring-parser (PEP 517) ... \u001b[?25l\u001b[?25hdone\n",
            "  Created wheel for docstring-parser: filename=docstring_parser-0.7.3-py3-none-any.whl size=19230 sha256=65f0a5ef19923e8f1629f0c833fecc62295d69d11fbc8797f0191f2d9ac259c1\n",
            "  Stored in directory: /root/.cache/pip/wheels/ac/ed/39/ecb2e36c2893bb7b1324f6def66a7b3369c0bfc36ed2e07bb3\n",
            "  Building wheel for fire (setup.py) ... \u001b[?25l\u001b[?25hdone\n",
            "  Created wheel for fire: filename=fire-0.4.0-py2.py3-none-any.whl size=115928 sha256=5247a7e8b5f19a6c8b014fdb85de12ae81ce12c7875c68efca466b57a081c9f1\n",
            "  Stored in directory: /root/.cache/pip/wheels/8a/67/fb/2e8a12fa16661b9d5af1f654bd199366799740a85c64981226\n",
            "  Building wheel for kfp-server-api (setup.py) ... \u001b[?25l\u001b[?25hdone\n",
            "  Created wheel for kfp-server-api: filename=kfp_server_api-1.4.1-py3-none-any.whl size=92262 sha256=904aeb1162918113858960919ab2c1531b9608d0f3b9d86bb188872349a7c00e\n",
            "  Stored in directory: /root/.cache/pip/wheels/eb/87/de/e967039ae561f87c24197e6b14bf97df4c3a1208b5f4174426\n",
            "  Building wheel for strip-hints (setup.py) ... \u001b[?25l\u001b[?25hdone\n",
            "  Created wheel for strip-hints: filename=strip_hints-0.1.9-py2.py3-none-any.whl size=20993 sha256=de19e73752201b25ea92c45b674fadac8e5cdda941281e012bd48688395d90de\n",
            "  Stored in directory: /root/.cache/pip/wheels/2d/b8/4e/a3ec111d2db63cec88121bd7c0ab1a123bce3b55dd19dda5c1\n",
            "Successfully built kfp docstring-parser fire kfp-server-api strip-hints\n",
            "Installing collected packages: protobuf, websocket-client, PyYAML, strip-hints, requests-toolbelt, kubernetes, kfp-server-api, kfp-pipeline-spec, jsonschema, fire, docstring-parser, Deprecated, kfp\n",
            "\u001b[33m  WARNING: The script strip-hints is installed in '/root/.local/bin' which is not on PATH.\n",
            "  Consider adding this directory to PATH or, if you prefer to suppress this warning, use --no-warn-script-location.\u001b[0m\n",
            "\u001b[33m  WARNING: The script jsonschema is installed in '/root/.local/bin' which is not on PATH.\n",
            "  Consider adding this directory to PATH or, if you prefer to suppress this warning, use --no-warn-script-location.\u001b[0m\n",
            "\u001b[33m  WARNING: The scripts dsl-compile, dsl-compile-v2 and kfp are installed in '/root/.local/bin' which is not on PATH.\n",
            "  Consider adding this directory to PATH or, if you prefer to suppress this warning, use --no-warn-script-location.\u001b[0m\n",
            "\u001b[31mERROR: pip's dependency resolver does not currently take into account all the packages that are installed. This behaviour is the source of the following dependency conflicts.\n",
            "nbclient 0.5.3 requires jupyter-client>=6.1.5, but you have jupyter-client 5.3.5 which is incompatible.\u001b[0m\n",
            "Successfully installed Deprecated-1.2.12 PyYAML-5.4.1 docstring-parser-0.7.3 fire-0.4.0 jsonschema-3.2.0 kfp-1.4.0 kfp-pipeline-spec-0.1.7 kfp-server-api-1.4.1 kubernetes-11.0.0 protobuf-3.15.8 requests-toolbelt-0.9.1 strip-hints-0.1.9 websocket-client-0.58.0\n"
          ],
          "name": "stdout"
        },
        {
          "output_type": "display_data",
          "data": {
            "application/vnd.colab-display-data+json": {
              "pip_warning": {
                "packages": [
                  "google"
                ]
              }
            }
          },
          "metadata": {
            "tags": []
          }
        }
      ]
    },
    {
      "cell_type": "code",
      "metadata": {
        "id": "vOnYO8ZEiJP9"
      },
      "source": [
        "import kfp\n",
        "from kfp import dsl\n",
        "import kfp.components as comp"
      ],
      "execution_count": 33,
      "outputs": []
    },
    {
      "cell_type": "code",
      "metadata": {
        "id": "b1nYx6ahiJP-"
      },
      "source": [
        "def load_data_op():\n",
        "    return dsl.ContainerOp(\n",
        "        name = 'Load Data',\n",
        "        image = 'mavencodevv/load_heart:v.0.1',\n",
        "        arguments = [],\n",
        "        file_outputs={\n",
        "            'data': '/load_data/data'\n",
        "        }      \n",
        "    )"
      ],
      "execution_count": 34,
      "outputs": []
    },
    {
      "cell_type": "code",
      "metadata": {
        "id": "IAisdT8HQ4b9"
      },
      "source": [
        "def stat_op(data):\n",
        "  return dsl.ContainerOp(\n",
        "        name = 'Dataset Statistics',\n",
        "        image = 'mavencodevv/stat_heart:v.0.18',\n",
        "        arguments = ['--data', data],\n",
        "        file_outputs={\n",
        "            'stats': '/statgen/stats',\n",
        "            'mlpipeline-ui-metadata': '/mlpipeline-ui-metadata.json'\n",
        "        }\n",
        "    )"
      ],
      "execution_count": 77,
      "outputs": []
    },
    {
      "cell_type": "code",
      "metadata": {
        "id": "-eaRi5Y4VvaB"
      },
      "source": [
        "def schema_op(stats):\n",
        "  return dsl.ContainerOp(\n",
        "        name = 'Dataset Schema',\n",
        "        image = 'mavencodevv/schema_heart:v.0.2',\n",
        "        arguments = ['--stats', stats],\n",
        "        file_outputs={\n",
        "            'schema': '/schema/schema',\n",
        "            'mlpipeline-ui-metadata': '/mlpipeline-ui-metadata.json'\n",
        "        }      \n",
        "    )"
      ],
      "execution_count": 78,
      "outputs": []
    },
    {
      "cell_type": "code",
      "metadata": {
        "id": "TLmeZoY5WYhR"
      },
      "source": [
        "def val_op(stats, schema):\n",
        "  return dsl.ContainerOp(\n",
        "        name = 'Dataset Validation',\n",
        "        image = 'mavencodevv/valid_heart:v.0.3',\n",
        "        arguments = ['--stats', stats, '--schema', schema],\n",
        "        file_outputs={\n",
        "            'mlpipeline-ui-metadata': '/mlpipeline-ui-metadata.json'}\n",
        "    )"
      ],
      "execution_count": 105,
      "outputs": []
    },
    {
      "cell_type": "code",
      "metadata": {
        "id": "cjo1UX2RiJP-"
      },
      "source": [
        "def preprocess_op(data):\n",
        "    return dsl.ContainerOp(\n",
        "        name = 'Preprocess Data',\n",
        "        image = 'mavencodevv/preprocess_heart:v.0.1',\n",
        "        arguments = ['--data', data],\n",
        "        file_outputs={\n",
        "            'clean_data': '/preprocess/clean_data'   \n",
        "        }\n",
        "    )"
      ],
      "execution_count": 106,
      "outputs": []
    },
    {
      "cell_type": "code",
      "metadata": {
        "id": "ByfNt_sAiJP-"
      },
      "source": [
        "def rf_op(clean_data):\n",
        "    return dsl.ContainerOp(\n",
        "        name = 'Randomforest',\n",
        "        image = 'mavencodevv/rf_heart:v.0.1',\n",
        "        arguments = ['--clean_data', clean_data\n",
        "            ],\n",
        "        file_outputs={\n",
        "            'rf_metrics': '/random/rf_metrics' \n",
        "        }\n",
        "    )"
      ],
      "execution_count": 107,
      "outputs": []
    },
    {
      "cell_type": "code",
      "metadata": {
        "id": "NQbnf_-3QcL3"
      },
      "source": [
        "def lr_op(clean_data):\n",
        "    return dsl.ContainerOp(\n",
        "        name = 'Logistic Regression',\n",
        "        image = 'mavencodevv/logistic_heart:v.0.1',\n",
        "        arguments = ['--clean_data', clean_data\n",
        "            ],\n",
        "        file_outputs={\n",
        "            'lr_metrics': '/logistic/lr_metrics' \n",
        "        }\n",
        "    )"
      ],
      "execution_count": 108,
      "outputs": []
    },
    {
      "cell_type": "code",
      "metadata": {
        "id": "uVeG2KS1YjAS"
      },
      "source": [
        "def keras_op(clean_data):\n",
        "    return dsl.ContainerOp(\n",
        "        name = 'Keras Model',\n",
        "        image = 'mavencodevv/km_heart:v.0.1',\n",
        "        arguments = ['--clean_data', clean_data\n",
        "            ],\n",
        "        file_outputs={\n",
        "            'keras_metrics': '/keras_model/keras_metrics' \n",
        "        }\n",
        "    )"
      ],
      "execution_count": 109,
      "outputs": []
    },
    {
      "cell_type": "code",
      "metadata": {
        "id": "k03imCFAY8Rl"
      },
      "source": [
        "def cb_op(clean_data):\n",
        "    return dsl.ContainerOp(\n",
        "        name = 'CatBoost',\n",
        "        image = 'mavencodevv/cb_heart:v.0.1',\n",
        "        arguments = ['--clean_data', clean_data\n",
        "            ],\n",
        "        file_outputs={\n",
        "            'cb_metrics': '/cb/cb_metrics' \n",
        "        }\n",
        "    )"
      ],
      "execution_count": 110,
      "outputs": []
    },
    {
      "cell_type": "code",
      "metadata": {
        "id": "12mxkLmzZRPi"
      },
      "source": [
        "def knn_op(clean_data):\n",
        "    return dsl.ContainerOp(\n",
        "        name = 'KNN model',\n",
        "        image = 'mavencodevv/knn_heart:v.0.1',\n",
        "        arguments = ['--clean_data', clean_data\n",
        "            ],\n",
        "        file_outputs={\n",
        "            'knn_metrics': '/knn/knn_metrics' \n",
        "        }\n",
        "    )"
      ],
      "execution_count": 111,
      "outputs": []
    },
    {
      "cell_type": "code",
      "metadata": {
        "id": "Bpxry12_ZfPQ"
      },
      "source": [
        "def sv_op(clean_data):\n",
        "    return dsl.ContainerOp(\n",
        "        name = 'SVC model',\n",
        "        image = 'mavencodevv/sv_heart:v.0.1',\n",
        "        arguments = ['--clean_data', clean_data\n",
        "            ],\n",
        "        file_outputs={\n",
        "            'sv_metrics': '/sv/sv_metrics' \n",
        "        }\n",
        "    )"
      ],
      "execution_count": 112,
      "outputs": []
    },
    {
      "cell_type": "code",
      "metadata": {
        "id": "KjE1UH9Fm-et"
      },
      "source": [
        "def eval_op(rf_metrics,keras_metrics,lr_metrics,sv_metrics, knn_metrics,cb_metrics):\n",
        "    return dsl.ContainerOp(\n",
        "        name = 'Model Evaluation',\n",
        "        image = 'mavencodevv/eval_heart:v.0.3',\n",
        "        arguments = ['--rf_metrics', rf_metrics,\n",
        "                     '--keras_metrics', keras_metrics,\n",
        "                     '--lr_metrics', lr_metrics,\n",
        "                     '--sv_metrics', sv_metrics,\n",
        "                     '--knn_metrics', knn_metrics,\n",
        "                     '--cb_metrics', cb_metrics\n",
        "                     ],\n",
        "                   \n",
        "        file_outputs={\n",
        "            'best_model': '/eval/best_model' \n",
        "        }    \n",
        "    )"
      ],
      "execution_count": 113,
      "outputs": []
    },
    {
      "cell_type": "code",
      "metadata": {
        "id": "nbA972gwame9"
      },
      "source": [
        "def push_op(bucket_name,credentials,best_model):\n",
        "  return dsl.ContainerOp(\n",
        "      name = 'Export Model to Cloud Storage',\n",
        "      image = 'mavencodevv/push_heart',\n",
        "      arguments = ['--bucket_name', bucket_name,\n",
        "                   '--credentials', credentials,\n",
        "                   '--best_model',best_model\n",
        "                   ]\n",
        "  )"
      ],
      "execution_count": 114,
      "outputs": []
    },
    {
      "cell_type": "code",
      "metadata": {
        "id": "Ck-jPduHiJP_"
      },
      "source": [
        "@dsl.pipeline(\n",
        "    name='Heart Attack Prediction',\n",
        "   description='An ML reusable pipeline that predicts the chances of a patient having heart attack'\n",
        ")\n",
        "\n",
        "# Define parameters to be fed into pipeline\n",
        "def heart_pipeline(bucket_name, credentials): \n",
        "  \n",
        "  _load_data_op = load_data_op()\n",
        "\n",
        "  _stat_op  = stat_op(\n",
        "        dsl.InputArgumentPath(_load_data_op.outputs['data'])).after(_load_data_op)\n",
        "\n",
        "  _schema_op = schema_op(\n",
        "      dsl.InputArgumentPath(_stat_op.outputs['stats'])).after(_stat_op)\n",
        "  \n",
        "\n",
        "  _val_op = val_op(\n",
        "      dsl.InputArgumentPath(_stat_op.outputs['stats']),\n",
        "      dsl.InputArgumentPath(_schema_op.outputs['schema'])).after(_stat_op,_schema_op)\n",
        "  \n",
        "  _preprocess_op = preprocess_op(\n",
        "        dsl.InputArgumentPath(_load_data_op.outputs['data'])).after(_load_data_op,_val_op)\n",
        "    \n",
        "  _rf_op = rf_op(\n",
        "        dsl.InputArgumentPath(_preprocess_op.outputs['clean_data'])).after(_preprocess_op)\n",
        "\n",
        "  _keras_op = keras_op(\n",
        "        dsl.InputArgumentPath(_preprocess_op.outputs['clean_data'])).after(_preprocess_op)\n",
        "  _lr_op = lr_op(\n",
        "        dsl.InputArgumentPath(_preprocess_op.outputs['clean_data'])).after(_preprocess_op)\n",
        "  _cb_op = cb_op(\n",
        "        dsl.InputArgumentPath(_preprocess_op.outputs['clean_data'])).after(_preprocess_op)\n",
        "  _knn_op = knn_op(\n",
        "        dsl.InputArgumentPath(_preprocess_op.outputs['clean_data'])).after(_preprocess_op)\n",
        "\n",
        "  _sv_op = sv_op(\n",
        "        dsl.InputArgumentPath(_preprocess_op.outputs['clean_data'])).after(_preprocess_op)\n",
        "\n",
        "  _eval_op = eval_op(\n",
        "        dsl.InputArgumentPath(_rf_op.outputs['rf_metrics']),\n",
        "        dsl.InputArgumentPath(_keras_op.outputs['keras_metrics']),\n",
        "        dsl.InputArgumentPath(_lr_op.outputs['lr_metrics']),\n",
        "        dsl.InputArgumentPath(_cb_op.outputs['cb_metrics']),\n",
        "        dsl.InputArgumentPath(_knn_op.outputs['knn_metrics']),\n",
        "        dsl.InputArgumentPath(_sv_op.outputs['sv_metrics'])).after(_rf_op,_keras_op,_lr_op,_cb_op,_knn_op,_sv_op)\n",
        "\n",
        "  _push_op = push_op(bucket_name, credentials,\n",
        "        dsl.InputArgumentPath(_eval_op.outputs['best_model'])).after(_eval_op)   \n",
        " "
      ],
      "execution_count": 115,
      "outputs": []
    },
    {
      "cell_type": "code",
      "metadata": {
        "colab": {
          "base_uri": "https://localhost:8080/"
        },
        "id": "X0wzVHqBiJP_",
        "outputId": "76f9cccd-1ed9-4baa-eded-4aec0065e0db"
      },
      "source": [
        "# Compile pipeline to generate compressed YAML definition of the pipeline.\n",
        "experiment_name = 'heart_pipeline'\n",
        "\n",
        "kfp.compiler.Compiler().compile(heart_pipeline, '{}.yaml'.format(experiment_name))"
      ],
      "execution_count": 116,
      "outputs": [
        {
          "output_type": "stream",
          "text": [
            "/root/.local/lib/python3.7/site-packages/kfp/dsl/_container_op.py:1039: FutureWarning: Please create reusable components instead of constructing ContainerOp instances directly. Reusable components are shareable, portable and have compatibility and support guarantees. Please see the documentation: https://www.kubeflow.org/docs/pipelines/sdk/component-development/#writing-your-component-definition-file The components can be created manually (or, in case of python, using kfp.components.create_component_from_func or func_to_container_op) and then loaded using kfp.components.load_component_from_file, load_component_from_uri or load_component_from_text: https://kubeflow-pipelines.readthedocs.io/en/stable/source/kfp.components.html#kfp.components.load_component_from_file\n",
            "  category=FutureWarning,\n"
          ],
          "name": "stderr"
        }
      ]
    },
    {
      "cell_type": "code",
      "metadata": {
        "id": "FOuAOmySiJQA"
      },
      "source": [
        "client = kfp.Client()\n",
        "#client.create_run_from_pipeline_func(heart_pipeline, arguments={})"
      ],
      "execution_count": null,
      "outputs": []
    },
    {
      "cell_type": "code",
      "metadata": {
        "id": "TTbQZ7rgL6ha"
      },
      "source": [
        ""
      ],
      "execution_count": null,
      "outputs": []
    }
  ]
}