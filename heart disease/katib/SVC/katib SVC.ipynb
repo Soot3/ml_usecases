{
 "cells": [
  {
   "cell_type": "code",
   "execution_count": 1,
   "metadata": {},
   "outputs": [],
   "source": [
    "SVC_EXPERIMENT_FILE = \"katib-SVC-experiment.yaml\""
   ]
  },
  {
   "cell_type": "code",
   "execution_count": 2,
   "metadata": {},
   "outputs": [],
   "source": [
    "import re\n",
    "\n",
    "from IPython.utils.capture import CapturedIO\n",
    "\n",
    "\n",
    "def get_resource(captured_io: CapturedIO) -> str:\n",
    "    \"\"\"\n",
    "    Gets a resource name from `kubectl apply -f <configuration.yaml>`.\n",
    "\n",
    "    :param str captured_io: Output captured by using `%%capture` cell magic\n",
    "    :return: Name of the Kubernetes resource\n",
    "    :rtype: str\n",
    "    :raises Exception: if the resource could not be created\n",
    "    \"\"\"\n",
    "    out = captured_io.stdout\n",
    "    matches = re.search(r\"^(.+)\\s+created\", out)\n",
    "    if matches is not None:\n",
    "        return matches.group(1)\n",
    "    else:\n",
    "        raise Exception(f\"Cannot get resource as its creation failed: {out}. It may already exist.\")"
   ]
  },
  {
   "cell_type": "code",
   "execution_count": 3,
   "metadata": {},
   "outputs": [
    {
     "name": "stdout",
     "output_type": "stream",
     "text": [
      "Writing katib-SVC-experiment.yaml\n"
     ]
    }
   ],
   "source": [
    "%%writefile $SVC_EXPERIMENT_FILE\n",
    "apiVersion: kubeflow.org/v1alpha3\n",
    "kind: Experiment\n",
    "metadata:\n",
    "  name: heart\n",
    "  namespace: ekemini\n",
    "spec:\n",
    "  parallelTrialCount: 3\n",
    "  maxTrialCount: 12\n",
    "  maxFailedTrialCount: 3\n",
    "  objective:\n",
    "    type: maximize\n",
    "    goal: 0.99\n",
    "    objectiveMetricName: accuracy\n",
    "  algorithm:\n",
    "    algorithmName: bayesianoptimization\n",
    "  metricsCollectorSpec:\n",
    "    kind: StdOut\n",
    "  parameters:\n",
    "    - name: C\n",
    "      parameterType: float\n",
    "      feasibleSpace:\n",
    "        min: \"1.0\"\n",
    "        max: \"5.0\"\n",
    "    - name: kernel\n",
    "      parameterType: categorical\n",
    "      feasibleSpace:\n",
    "        list:\n",
    "            - \"rbf\"\n",
    "            - \"linear\"\n",
    "            - \"poly\"\n",
    "            - \"sigmoid\"\n",
    "            - \"precomputed\"\n",
    "    - name: max_iter\n",
    "      parameterType: int\n",
    "      feasibleSpace:\n",
    "        min: \"1\"\n",
    "        max: \"10\"\n",
    "  trialTemplate:\n",
    "    primaryContainerName: training-container\n",
    "    trialParameters:\n",
    "      - name: C\n",
    "        description: Regularization Parameter\n",
    "        reference: C\n",
    "      - name: kernel\n",
    "        description: Specifies the kernel type to be used in the algorithm\n",
    "        reference: kernel\n",
    "      - name: maxiter\n",
    "        description: Hard limit on iterations within solver, or -1 for no limit\n",
    "        reference: max_iter\n",
    "    trialSpec:\n",
    "      apiVersion: batch/v1\n",
    "      kind: Job\n",
    "      spec:\n",
    "        template:\n",
    "          metadata:\n",
    "            annotations:\n",
    "              sidecar.istio.io/inject: \"false\"\n",
    "          spec:\n",
    "            containers:\n",
    "              - name: training-container\n",
    "                image: \"docker.io/mavencodevv/svcjobheart:v.0.1\"\n",
    "                command:\n",
    "                  - python3\n",
    "                  - -u\n",
    "                  - /svcjobheart.py\n",
    "                args:\n",
    "                  - \"--C=${trialParameters.C}\"\n",
    "                  - \"--kernel=${trialParameters.kernel}\"\n",
    "                  - \"--max_iter=${trialParameters.max_iter}\"\n",
    "            restartPolicy: Never"
   ]
  },
  {
   "cell_type": "code",
   "execution_count": null,
   "metadata": {},
   "outputs": [],
   "source": []
  }
 ],
 "metadata": {
  "kernelspec": {
   "display_name": "Python 3",
   "language": "python",
   "name": "python3"
  },
  "language_info": {
   "codemirror_mode": {
    "name": "ipython",
    "version": 3
   },
   "file_extension": ".py",
   "mimetype": "text/x-python",
   "name": "python",
   "nbconvert_exporter": "python",
   "pygments_lexer": "ipython3",
   "version": "3.6.9"
  }
 },
 "nbformat": 4,
 "nbformat_minor": 4
}
