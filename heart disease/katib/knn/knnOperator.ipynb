{
 "cells": [
  {
   "cell_type": "code",
   "execution_count": 6,
   "metadata": {},
   "outputs": [],
   "source": [
    "TRAINER_FILE = \"knnjobheart.py\""
   ]
  },
  {
   "cell_type": "code",
   "execution_count": 7,
   "metadata": {},
   "outputs": [],
   "source": [
    "import re\n",
    "\n",
    "from IPython.utils.capture import CapturedIO\n",
    "\n",
    "\n",
    "def get_resource(captured_io: CapturedIO) -> str:\n",
    "    \"\"\"\n",
    "    Gets a resource name from `kubectl apply -f <configuration.yaml>`.\n",
    "\n",
    "    :param str captured_io: Output captured by using `%%capture` cell magic\n",
    "    :return: Name of the Kubernetes resource\n",
    "    :rtype: str\n",
    "    :raises Exception: if the resource could not be created\n",
    "    \"\"\"\n",
    "    out = captured_io.stdout\n",
    "    matches = re.search(r\"^(.+)\\s+created\", out)\n",
    "    if matches is not None:\n",
    "        return matches.group(1)\n",
    "    else:\n",
    "        raise Exception(f\"Cannot get resource as its creation failed: {out}. It may already exist.\")"
   ]
  },
  {
   "cell_type": "code",
   "execution_count": 16,
   "metadata": {},
   "outputs": [
    {
     "name": "stdout",
     "output_type": "stream",
     "text": [
      "Overwriting knnjobheart.py\n"
     ]
    }
   ],
   "source": [
    "%%writefile $TRAINER_FILE\n",
    "import argparse\n",
    "import os\n",
    "from sklearn.neighbors import KNeighborsClassifier as knn\n",
    "\n",
    "import pandas as pd\n",
    "\n",
    "#from sklearn.datasets import fetch_openml\n",
    "from sklearn.metrics import accuracy_score\n",
    "from sklearn.model_selection import train_test_split\n",
    "from sklearn.utils import resample\n",
    "from sklearn.preprocessing import StandardScaler\n",
    "#from timeit import default_timer as timestamp\n",
    "\n",
    "if __name__ == '__main__':\n",
    "    parser = argparse.ArgumentParser()\n",
    "    parser.add_argument('--n_neighbors',\n",
    "                        type = int,\n",
    "                        default = 5,\n",
    "                        help = 'Number of neighbors to use by default for kneighbors queries.')\n",
    "    parser.add_argument('--weights',\n",
    "                        type = str,\n",
    "                        default = 'uniform',\n",
    "                        help = 'weight function used in prediction.')\n",
    "    parser.add_argument('--algorithm',\n",
    "                        type = str,\n",
    "                        default = 'auto',\n",
    "                        help = 'Algorithm used to compute the nearest neighbors.')\n",
    "    args = parser.parse_args()\n",
    "    \n",
    "    df=pd.read_csv('https://raw.githubusercontent.com/Soot3/testing/master/heart.csv')\n",
    "\n",
    "    def removeOutlier(att, df):\n",
    "\n",
    "      lowerbound = att.mean() - 3 * att.std()\n",
    "      upperbound = att.mean() + 3 * att.std()\n",
    "\n",
    "      df1 = df[(att > lowerbound) & (att < upperbound)]\n",
    "\n",
    "      df = df1.copy()\n",
    "\n",
    "      return df\n",
    "    df = removeOutlier(df.trtbps, df)\n",
    "    df = removeOutlier(df.chol, df)   \n",
    "\n",
    "    # Separate Target Classes\n",
    "    df_1 = df[df.output==1]\n",
    "    df_2 = df[df.output==0]\n",
    "\n",
    "    # Upsample minority class\n",
    "    df_upsample_1 = resample(df_2, \n",
    "                                  replace=True,     # sample with replacement\n",
    "                                  n_samples=163,    # to match majority class\n",
    "                                  random_state=123) # reproducible results\n",
    "\n",
    "    # Combine majority class with upsampled minority class\n",
    "    df_upsampled = pd.concat([df_1, df_upsample_1])\n",
    "    x = df_upsampled.drop('output', axis = 1)\n",
    "    y = df_upsampled['output']  \n",
    "\n",
    "    x_train, x_test, y_train, y_test = train_test_split(x, y, test_size = 0.2, random_state = 111)\n",
    "    scaler = StandardScaler()\n",
    "\n",
    "    x_train = scaler.fit_transform(x_train)\n",
    "    x_test = scaler.fit_transform(x_test)\n",
    "\n",
    "\n",
    "    params = {\n",
    "        'n_neighbors': args.n_neighbors,\n",
    "        'weights': args.weights,\n",
    "        'algorithm': args.algorithm\n",
    "    }\n",
    "    \n",
    "    \n",
    "\n",
    "    #start = timestamp()\n",
    "    model = knn()\n",
    "    model.fit(x_train, y_train)\n",
    "    #stop = timestamp()\n",
    "\n",
    "    #print('time=%.3f' % (stop - start))\n",
    "\n",
    "    predictions = model.predict(x_test)\n",
    "\n",
    "    print('accuracy=%.3f' % accuracy_score(y_test, predictions))"
   ]
  },
  {
   "cell_type": "code",
   "execution_count": 17,
   "metadata": {},
   "outputs": [
    {
     "name": "stdout",
     "output_type": "stream",
     "text": [
      "accuracy=0.864\n"
     ]
    }
   ],
   "source": [
    "%run $TRAINER_FILE"
   ]
  }
 ],
 "metadata": {
  "kernelspec": {
   "display_name": "Python 3",
   "language": "python",
   "name": "python3"
  },
  "language_info": {
   "codemirror_mode": {
    "name": "ipython",
    "version": 3
   },
   "file_extension": ".py",
   "mimetype": "text/x-python",
   "name": "python",
   "nbconvert_exporter": "python",
   "pygments_lexer": "ipython3",
   "version": "3.6.9"
  }
 },
 "nbformat": 4,
 "nbformat_minor": 4
}
