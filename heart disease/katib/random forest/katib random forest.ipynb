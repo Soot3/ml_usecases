{
 "cells": [
  {
   "cell_type": "code",
   "execution_count": 12,
   "metadata": {},
   "outputs": [],
   "source": [
    "RF_EXPERIMENT_FILE = \"katib-randomforest-experiment.yaml\""
   ]
  },
  {
   "cell_type": "code",
   "execution_count": 13,
   "metadata": {},
   "outputs": [],
   "source": [
    "import re\n",
    "\n",
    "from IPython.utils.capture import CapturedIO\n",
    "\n",
    "\n",
    "def get_resource(captured_io: CapturedIO) -> str:\n",
    "    \"\"\"\n",
    "    Gets a resource name from `kubectl apply -f <configuration.yaml>`.\n",
    "\n",
    "    :param str captured_io: Output captured by using `%%capture` cell magic\n",
    "    :return: Name of the Kubernetes resource\n",
    "    :rtype: str\n",
    "    :raises Exception: if the resource could not be created\n",
    "    \"\"\"\n",
    "    out = captured_io.stdout\n",
    "    matches = re.search(r\"^(.+)\\s+created\", out)\n",
    "    if matches is not None:\n",
    "        return matches.group(1)\n",
    "    else:\n",
    "        raise Exception(f\"Cannot get resource as its creation failed: {out}. It may already exist.\")"
   ]
  },
  {
   "cell_type": "code",
   "execution_count": null,
   "metadata": {},
   "outputs": [],
   "source": []
  },
  {
   "cell_type": "code",
   "execution_count": 14,
   "metadata": {},
   "outputs": [
    {
     "name": "stdout",
     "output_type": "stream",
     "text": [
      "Overwriting katib-randomforest-experiment.yaml\n"
     ]
    }
   ],
   "source": [
    "%%writefile $RF_EXPERIMENT_FILE\n",
    "apiVersion: kubeflow.org/v1alpha3\n",
    "kind: Experiment\n",
    "metadata:\n",
    "  name: heart\n",
    "  namespace: ekemini\n",
    "spec:\n",
    "  parallelTrialCount: 3\n",
    "  maxTrialCount: 12\n",
    "  maxFailedTrialCount: 3\n",
    "  objective:\n",
    "    type: maximize\n",
    "    goal: 0.99\n",
    "    objectiveMetricName: accuracy\n",
    "  algorithm:\n",
    "    algorithmName: bayesianoptimization\n",
    "  metricsCollectorSpec:\n",
    "    kind: StdOut\n",
    "  parameters:\n",
    "    - name: n_estimators\n",
    "      parameterType: int\n",
    "      feasibleSpace:\n",
    "        min: \"100\"\n",
    "        max: \"200\"\n",
    "    - name: min_samples_leaf\n",
    "      parameterType: int\n",
    "      feasibleSpace:\n",
    "        min: \"2\"\n",
    "        max: \"5\"\n",
    "    - name: min_samples_split\n",
    "      parameterType: int\n",
    "      feasibleSpace:\n",
    "        min: \"1\"\n",
    "        max: \"2\"\n",
    "  trialTemplate:\n",
    "    primaryContainerName: training-container\n",
    "    trialParameters:\n",
    "      - name: nEstimators\n",
    "        description: The number of trees in the forest\n",
    "        reference: n_estimators\n",
    "      - name: minsamplesleaf\n",
    "        description: The minimum number of samples required to be at a leaf node\n",
    "        reference: min_samples_leaf\n",
    "      - name: minsamplessplit\n",
    "        description: The minimum number of samples required to split an internal node\n",
    "        reference: min_samples_split\n",
    "    trialSpec:\n",
    "      apiVersion: batch/v1\n",
    "      kind: Job\n",
    "      spec:\n",
    "        template:\n",
    "          metadata:\n",
    "            annotations:\n",
    "              sidecar.istio.io/inject: \"false\"\n",
    "          spec:\n",
    "            containers:\n",
    "              - name: training-container\n",
    "                image: \"docker.io/mavencodevv/rfjobheart:v.0.1\"\n",
    "                command:\n",
    "                  - python3\n",
    "                  - -u\n",
    "                  - /rfjobheart.py\n",
    "                args:\n",
    "                  - \"--n_estimators=${trialParameters.nEstimators}\"\n",
    "                  - \"--min_samples_leaf=${trialParameters.min_samples_leaf}\"\n",
    "                  - \"--min_samples_split=${trialParameters.min_samples_split}\"\n",
    "            restartPolicy: Never"
   ]
  },
  {
   "cell_type": "code",
   "execution_count": 15,
   "metadata": {},
   "outputs": [],
   "source": [
    "%%capture kubectl_output --no-stderr\n",
    "! kubectl apply -f $RF_EXPERIMENT_FILE"
   ]
  },
  {
   "cell_type": "code",
   "execution_count": 16,
   "metadata": {},
   "outputs": [
    {
     "ename": "Exception",
     "evalue": "Cannot get resource as its creation failed: error: unable to recognize \"katib-randomforest-experiment.yaml\": no matches for kind \"Experiment\" in version \"kubeflow.org/v1alpha3\"\r\n. It may already exist.",
     "output_type": "error",
     "traceback": [
      "\u001b[0;31m---------------------------------------------------------------------------\u001b[0m",
      "\u001b[0;31mException\u001b[0m                                 Traceback (most recent call last)",
      "\u001b[0;32m<ipython-input-16-1188bfe9462f>\u001b[0m in \u001b[0;36m<module>\u001b[0;34m\u001b[0m\n\u001b[0;32m----> 1\u001b[0;31m \u001b[0mEXPERIMENT\u001b[0m \u001b[0;34m=\u001b[0m \u001b[0mget_resource\u001b[0m\u001b[0;34m(\u001b[0m\u001b[0mkubectl_output\u001b[0m\u001b[0;34m)\u001b[0m\u001b[0;34m\u001b[0m\u001b[0;34m\u001b[0m\u001b[0m\n\u001b[0m",
      "\u001b[0;32m<ipython-input-13-790d43f40b21>\u001b[0m in \u001b[0;36mget_resource\u001b[0;34m(captured_io)\u001b[0m\n\u001b[1;32m     18\u001b[0m         \u001b[0;32mreturn\u001b[0m \u001b[0mmatches\u001b[0m\u001b[0;34m.\u001b[0m\u001b[0mgroup\u001b[0m\u001b[0;34m(\u001b[0m\u001b[0;36m1\u001b[0m\u001b[0;34m)\u001b[0m\u001b[0;34m\u001b[0m\u001b[0;34m\u001b[0m\u001b[0m\n\u001b[1;32m     19\u001b[0m     \u001b[0;32melse\u001b[0m\u001b[0;34m:\u001b[0m\u001b[0;34m\u001b[0m\u001b[0;34m\u001b[0m\u001b[0m\n\u001b[0;32m---> 20\u001b[0;31m         \u001b[0;32mraise\u001b[0m \u001b[0mException\u001b[0m\u001b[0;34m(\u001b[0m\u001b[0;34mf\"Cannot get resource as its creation failed: {out}. It may already exist.\"\u001b[0m\u001b[0;34m)\u001b[0m\u001b[0;34m\u001b[0m\u001b[0;34m\u001b[0m\u001b[0m\n\u001b[0m",
      "\u001b[0;31mException\u001b[0m: Cannot get resource as its creation failed: error: unable to recognize \"katib-randomforest-experiment.yaml\": no matches for kind \"Experiment\" in version \"kubeflow.org/v1alpha3\"\r\n. It may already exist."
     ]
    }
   ],
   "source": [
    "EXPERIMENT = get_resource(kubectl_output)"
   ]
  },
  {
   "cell_type": "code",
   "execution_count": null,
   "metadata": {},
   "outputs": [],
   "source": []
  },
  {
   "cell_type": "code",
   "execution_count": null,
   "metadata": {},
   "outputs": [],
   "source": []
  },
  {
   "cell_type": "code",
   "execution_count": null,
   "metadata": {},
   "outputs": [],
   "source": []
  },
  {
   "cell_type": "code",
   "execution_count": null,
   "metadata": {},
   "outputs": [],
   "source": []
  },
  {
   "cell_type": "code",
   "execution_count": null,
   "metadata": {},
   "outputs": [],
   "source": []
  },
  {
   "cell_type": "code",
   "execution_count": null,
   "metadata": {},
   "outputs": [],
   "source": []
  },
  {
   "cell_type": "code",
   "execution_count": null,
   "metadata": {},
   "outputs": [],
   "source": []
  },
  {
   "cell_type": "code",
   "execution_count": 17,
   "metadata": {},
   "outputs": [
    {
     "name": "stdout",
     "output_type": "stream",
     "text": [
      "error: unable to recognize \"katib-randomforest-experiment.yaml\": no matches for kind \"Experiment\" in version \"kubeflow.org/v1alpha3\"\n"
     ]
    }
   ],
   "source": [
    "! kubectl delete -f $RF_EXPERIMENT_FILE"
   ]
  },
  {
   "cell_type": "code",
   "execution_count": null,
   "metadata": {},
   "outputs": [],
   "source": []
  }
 ],
 "metadata": {
  "kernelspec": {
   "display_name": "Python 3",
   "language": "python",
   "name": "python3"
  },
  "language_info": {
   "codemirror_mode": {
    "name": "ipython",
    "version": 3
   },
   "file_extension": ".py",
   "mimetype": "text/x-python",
   "name": "python",
   "nbconvert_exporter": "python",
   "pygments_lexer": "ipython3",
   "version": "3.6.9"
  }
 },
 "nbformat": 4,
 "nbformat_minor": 4
}
