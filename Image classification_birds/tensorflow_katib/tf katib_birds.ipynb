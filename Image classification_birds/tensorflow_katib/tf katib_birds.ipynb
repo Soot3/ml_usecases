{
 "cells": [
  {
   "cell_type": "markdown",
   "metadata": {},
   "source": [
    "### Create Experiments\n",
    "\n",
    "##### Before we proceed, let's set up a few basic definitions that we can re-use."
   ]
  },
  {
   "cell_type": "code",
   "execution_count": 1,
   "metadata": {},
   "outputs": [],
   "source": [
    "TF_EXPERIMENT_FILE = \"katib-tfjob-experiment.yaml\""
   ]
  },
  {
   "cell_type": "code",
   "execution_count": 2,
   "metadata": {},
   "outputs": [],
   "source": [
    "import re\n",
    "\n",
    "from IPython.utils.capture import CapturedIO\n",
    "\n",
    "\n",
    "def get_resource(captured_io: CapturedIO) -> str:\n",
    "    \"\"\"\n",
    "    Gets a resource name from `kubectl apply -f <configuration.yaml>`.\n",
    "\n",
    "    :param str captured_io: Output captured by using `%%capture` cell magic\n",
    "    :return: Name of the Kubernetes resource\n",
    "    :rtype: str\n",
    "    :raises Exception: if the resource could not be created\n",
    "    \"\"\"\n",
    "    out = captured_io.stdout\n",
    "    matches = re.search(r\"^(.+)\\s+created\", out)\n",
    "    if matches is not None:\n",
    "        return matches.group(1)\n",
    "    else:\n",
    "        raise Exception(f\"Cannot get resource as its creation failed: {out}. It may already exist.\")"
   ]
  },
  {
   "cell_type": "markdown",
   "metadata": {},
   "source": [
    "### TensorFlow: Katib TFJob Experiment\n",
    "\n",
    "The TFJob definition for this example is based on the birds TensorFlow notebook.\n",
    "\n",
    "This model accepts several arguments, but for our experiment, we want to focus on the following parameters of the algorithm:\n",
    "\n",
    "--learning_rate\n",
    "--batch-size\n",
    "--optimizer\n",
    "\n",
    "The following YAML file describes an Experiment object:"
   ]
  },
  {
   "cell_type": "code",
   "execution_count": 3,
   "metadata": {},
   "outputs": [
    {
     "name": "stdout",
     "output_type": "stream",
     "text": [
      "Writing katib-tfjob-experiment.yaml\n"
     ]
    }
   ],
   "source": [
    "%%writefile $TF_EXPERIMENT_FILE\n",
    "apiVersion: \"kubeflow.org/v1beta1\"\n",
    "kind: Experiment\n",
    "metadata:\n",
    "  namespace: ekemini\n",
    "  name: katibtf\n",
    "spec:\n",
    "  parallelTrialCount: 3\n",
    "  maxTrialCount: 12\n",
    "  maxFailedTrialCount: 3\n",
    "  objective:\n",
    "    type: maximize\n",
    "    goal: 0.99\n",
    "    objectiveMetricName: accuracy\n",
    "  algorithm:\n",
    "    algorithmName: random\n",
    "  metricsCollectorSpec:\n",
    "    kind: StdOut\n",
    "  parameters:\n",
    "    - name: learning_rate\n",
    "      parameterType: double\n",
    "      feasibleSpace:\n",
    "        min: \"0.001\"\n",
    "        max: \"0.005\"\n",
    "    - name: batch_size\n",
    "      parameterType: int\n",
    "      feasibleSpace:\n",
    "        min: \"100\"\n",
    "        max: \"200\"\n",
    "    - name: optimizer\n",
    "      parameterType: categorical\n",
    "      feasibleSpace:\n",
    "        list:\n",
    "          - rmsprop\n",
    "          - adam\n",
    "  trialTemplate:\n",
    "    primaryContainerName: tensorflow\n",
    "    trialParameters:\n",
    "      - name: learningRate\n",
    "        description: Learning rate for the training model\n",
    "        reference: learning_rate\n",
    "      - name: batchSize\n",
    "        description: Batch Size\n",
    "        reference: batch_size\n",
    "      - name: optimizer\n",
    "        description: Training model optimizer (rmsprop, adam)\n",
    "        reference: optimizer\n",
    "    trialSpec:\n",
    "      apiVersion: \"kubeflow.org/v1\"\n",
    "      kind: TFJob\n",
    "      spec:\n",
    "        tfReplicaSpecs:\n",
    "          Worker:\n",
    "            replicas: 1\n",
    "            restartPolicy: OnFailure\n",
    "            template:\n",
    "              metadata:\n",
    "                annotations:\n",
    "                  sidecar.istio.io/inject: \"false\"\n",
    "              spec:\n",
    "                containers:\n",
    "                  - name: tensorflow\n",
    "                    image: mavencodev/tfbirds:v.0.3\n",
    "                    command:\n",
    "                      - \"python\"\n",
    "                      - \"/tfjob.py\"\n",
    "                      - \"--batch_size=${trialParameters.batchSize}\"\n",
    "                      - \"--learning_rate=${trialParameters.learningRate}\"\n",
    "                      - \"--optimizer=${trialParameters.optimizer}\""
   ]
  },
  {
   "cell_type": "markdown",
   "metadata": {},
   "source": [
    "### Run and Monitor Experiments\n",
    "You can either execute these commands on your local machine with kubectl or you can run them from the notebook.\n",
    "\n",
    "To submit our experiment, we execute:"
   ]
  },
  {
   "cell_type": "code",
   "execution_count": null,
   "metadata": {},
   "outputs": [],
   "source": [
    "%%capture kubectl_output --no-stderr\n",
    "! kubectl apply -f $TF_EXPERIMENT_FILE"
   ]
  },
  {
   "cell_type": "markdown",
   "metadata": {},
   "source": [
    "##### The cell magic grabs the output of the kubectl command and stores it in an object named kubectl_output. From there we can use the utility function we defined earlier:"
   ]
  },
  {
   "cell_type": "code",
   "execution_count": null,
   "metadata": {},
   "outputs": [],
   "source": [
    "EXPERIMENT = get_resource(kubectl_output)"
   ]
  },
  {
   "cell_type": "markdown",
   "metadata": {},
   "source": [
    "##### To see the status, we can then run:"
   ]
  },
  {
   "cell_type": "code",
   "execution_count": null,
   "metadata": {},
   "outputs": [],
   "source": [
    "! kubectl describe $EXPERIMENT"
   ]
  },
  {
   "cell_type": "markdown",
   "metadata": {},
   "source": [
    "##### To get the list of created experiments, use the following command:"
   ]
  },
  {
   "cell_type": "code",
   "execution_count": null,
   "metadata": {},
   "outputs": [],
   "source": [
    "! kubectl get experiments"
   ]
  },
  {
   "cell_type": "markdown",
   "metadata": {},
   "source": [
    "##### To get the list of created trials, use the following command:"
   ]
  },
  {
   "cell_type": "code",
   "execution_count": null,
   "metadata": {},
   "outputs": [],
   "source": [
    "! kubectl get trials"
   ]
  },
  {
   "cell_type": "markdown",
   "metadata": {},
   "source": [
    "##### After the experiment is completed, use describe to get the best trial results:"
   ]
  },
  {
   "cell_type": "code",
   "execution_count": null,
   "metadata": {},
   "outputs": [],
   "source": [
    "! kubectl describe $EXPERIMENT"
   ]
  },
  {
   "cell_type": "markdown",
   "metadata": {},
   "source": [
    "##### Delete Katib Job Runs to Free up resources"
   ]
  },
  {
   "cell_type": "code",
   "execution_count": null,
   "metadata": {},
   "outputs": [],
   "source": [
    "#! kubectl delete -f $TF_EXPERIMENT_FILE"
   ]
  },
  {
   "cell_type": "markdown",
   "metadata": {},
   "source": [
    "##### Check to see if the check to see if the pod is still up and running"
   ]
  },
  {
   "cell_type": "code",
   "execution_count": null,
   "metadata": {},
   "outputs": [],
   "source": [
    "#! kubectl -n demo01 logs -f katibtf"
   ]
  }
 ],
 "metadata": {
  "kernelspec": {
   "display_name": "Python 3",
   "language": "python",
   "name": "python3"
  },
  "language_info": {
   "codemirror_mode": {
    "name": "ipython",
    "version": 3
   },
   "file_extension": ".py",
   "mimetype": "text/x-python",
   "name": "python",
   "nbconvert_exporter": "python",
   "pygments_lexer": "ipython3",
   "version": "3.6.9"
  }
 },
 "nbformat": 4,
 "nbformat_minor": 4
}
