{
  "nbformat": 4,
  "nbformat_minor": 0,
  "metadata": {
    "colab": {
      "name": "image_classification_pipeline.ipynb",
      "provenance": []
    },
    "kernelspec": {
      "name": "python3",
      "display_name": "Python 3"
    },
    "language_info": {
      "name": "python"
    }
  },
  "cells": [
    {
      "cell_type": "code",
      "metadata": {
        "colab": {
          "base_uri": "https://localhost:8080/"
        },
        "id": "AaoZUDi2AJbI",
        "outputId": "43720531-efeb-432a-b92d-628901a42742"
      },
      "source": [
        "!python -m pip install --user --upgrade pip"
      ],
      "execution_count": 1,
      "outputs": [
        {
          "output_type": "stream",
          "text": [
            "Collecting pip\n",
            "\u001b[?25l  Downloading https://files.pythonhosted.org/packages/ac/cf/0cc542fc93de2f3b9b53cb979c7d1118cffb93204afb46299a9f858e113f/pip-21.1-py3-none-any.whl (1.5MB)\n",
            "\u001b[K     |████████████████████████████████| 1.6MB 5.8MB/s \n",
            "\u001b[?25hInstalling collected packages: pip\n",
            "\u001b[33m  WARNING: The scripts pip, pip3 and pip3.7 are installed in '/root/.local/bin' which is not on PATH.\n",
            "  Consider adding this directory to PATH or, if you prefer to suppress this warning, use --no-warn-script-location.\u001b[0m\n",
            "Successfully installed pip-21.1\n"
          ],
          "name": "stdout"
        }
      ]
    },
    {
      "cell_type": "code",
      "metadata": {
        "colab": {
          "base_uri": "https://localhost:8080/",
          "height": 1000
        },
        "id": "tmtFwOjkARZ0",
        "outputId": "ac1efa36-e2f6-42e3-e92b-90f9a44797d3"
      },
      "source": [
        "!pip3 install kfp --upgrade --user"
      ],
      "execution_count": 2,
      "outputs": [
        {
          "output_type": "stream",
          "text": [
            "WARNING: pip is being invoked by an old script wrapper. This will fail in a future version of pip.\n",
            "Please see https://github.com/pypa/pip/issues/5599 for advice on fixing the underlying issue.\n",
            "To avoid this problem you can invoke Python with '-m pip' instead of running pip directly.\n",
            "Collecting kfp\n",
            "  Downloading kfp-1.4.0.tar.gz (159 kB)\n",
            "\u001b[K     |████████████████████████████████| 159 kB 5.7 MB/s \n",
            "\u001b[?25hCollecting PyYAML>=5.3\n",
            "  Downloading PyYAML-5.4.1-cp37-cp37m-manylinux1_x86_64.whl (636 kB)\n",
            "\u001b[K     |████████████████████████████████| 636 kB 17.1 MB/s \n",
            "\u001b[?25hRequirement already satisfied: google-cloud-storage>=1.13.0 in /usr/local/lib/python3.7/dist-packages (from kfp) (1.18.1)\n",
            "Collecting kubernetes<12.0.0,>=8.0.0\n",
            "  Downloading kubernetes-11.0.0-py3-none-any.whl (1.5 MB)\n",
            "\u001b[K     |████████████████████████████████| 1.5 MB 18.7 MB/s \n",
            "\u001b[?25hRequirement already satisfied: google-auth>=1.6.1 in /usr/local/lib/python3.7/dist-packages (from kfp) (1.28.1)\n",
            "Collecting requests_toolbelt>=0.8.0\n",
            "  Downloading requests_toolbelt-0.9.1-py2.py3-none-any.whl (54 kB)\n",
            "\u001b[K     |████████████████████████████████| 54 kB 2.8 MB/s \n",
            "\u001b[?25hRequirement already satisfied: cloudpickle in /usr/local/lib/python3.7/dist-packages (from kfp) (1.3.0)\n",
            "Collecting kfp-server-api<2.0.0,>=1.1.2\n",
            "  Downloading kfp-server-api-1.5.0.tar.gz (50 kB)\n",
            "\u001b[K     |████████████████████████████████| 50 kB 7.0 MB/s \n",
            "\u001b[?25hCollecting jsonschema>=3.0.1\n",
            "  Downloading jsonschema-3.2.0-py2.py3-none-any.whl (56 kB)\n",
            "\u001b[K     |████████████████████████████████| 56 kB 4.4 MB/s \n",
            "\u001b[?25hRequirement already satisfied: tabulate in /usr/local/lib/python3.7/dist-packages (from kfp) (0.8.9)\n",
            "Requirement already satisfied: click in /usr/local/lib/python3.7/dist-packages (from kfp) (7.1.2)\n",
            "Collecting Deprecated\n",
            "  Downloading Deprecated-1.2.12-py2.py3-none-any.whl (9.5 kB)\n",
            "Collecting strip-hints\n",
            "  Downloading strip-hints-0.1.9.tar.gz (30 kB)\n",
            "Collecting docstring-parser>=0.7.3\n",
            "  Downloading docstring_parser-0.7.3.tar.gz (13 kB)\n",
            "\u001b[33m  WARNING: Value for purelib does not match. Please report this to <https://github.com/pypa/pip/issues/9617>\n",
            "  distutils: /usr/lib/python3/dist-packages\n",
            "  sysconfig: /usr/lib/python3.7/site-packages\u001b[0m\n",
            "\u001b[33m  WARNING: Additional context:\n",
            "  user = False\n",
            "  home = None\n",
            "  root = None\n",
            "  prefix = None\u001b[0m\n",
            "\u001b[33m  WARNING: Value for platlib does not match. Please report this to <https://github.com/pypa/pip/issues/9617>\n",
            "  distutils: /usr/lib/python3/dist-packages\n",
            "  sysconfig: /usr/lib/python3.7/site-packages\u001b[0m\n",
            "\u001b[33m  WARNING: Additional context:\n",
            "  user = False\n",
            "  home = None\n",
            "  root = None\n",
            "  prefix = None\u001b[0m\n",
            "  Installing build dependencies ... \u001b[?25l\u001b[?25hdone\n",
            "  Getting requirements to build wheel ... \u001b[?25l\u001b[?25hdone\n",
            "    Preparing wheel metadata ... \u001b[?25l\u001b[?25hdone\n",
            "Collecting kfp-pipeline-spec<0.2.0,>=0.1.0\n",
            "  Downloading kfp_pipeline_spec-0.1.7-py3-none-any.whl (27 kB)\n",
            "Collecting fire>=0.3.1\n",
            "  Downloading fire-0.4.0.tar.gz (87 kB)\n",
            "\u001b[K     |████████████████████████████████| 87 kB 6.3 MB/s \n",
            "\u001b[?25hRequirement already satisfied: six in /usr/local/lib/python3.7/dist-packages (from fire>=0.3.1->kfp) (1.15.0)\n",
            "Requirement already satisfied: termcolor in /usr/local/lib/python3.7/dist-packages (from fire>=0.3.1->kfp) (1.1.0)\n",
            "Requirement already satisfied: setuptools>=40.3.0 in /usr/local/lib/python3.7/dist-packages (from google-auth>=1.6.1->kfp) (56.0.0)\n",
            "Requirement already satisfied: pyasn1-modules>=0.2.1 in /usr/local/lib/python3.7/dist-packages (from google-auth>=1.6.1->kfp) (0.2.8)\n",
            "Requirement already satisfied: rsa<5,>=3.1.4 in /usr/local/lib/python3.7/dist-packages (from google-auth>=1.6.1->kfp) (4.7.2)\n",
            "Requirement already satisfied: cachetools<5.0,>=2.0.0 in /usr/local/lib/python3.7/dist-packages (from google-auth>=1.6.1->kfp) (4.2.1)\n",
            "Requirement already satisfied: google-resumable-media<0.5.0dev,>=0.3.1 in /usr/local/lib/python3.7/dist-packages (from google-cloud-storage>=1.13.0->kfp) (0.4.1)\n",
            "Requirement already satisfied: google-cloud-core<2.0dev,>=1.0.0 in /usr/local/lib/python3.7/dist-packages (from google-cloud-storage>=1.13.0->kfp) (1.0.3)\n",
            "Requirement already satisfied: google-api-core<2.0.0dev,>=1.14.0 in /usr/local/lib/python3.7/dist-packages (from google-cloud-core<2.0dev,>=1.0.0->google-cloud-storage>=1.13.0->kfp) (1.26.3)\n",
            "Requirement already satisfied: pytz in /usr/local/lib/python3.7/dist-packages (from google-api-core<2.0.0dev,>=1.14.0->google-cloud-core<2.0dev,>=1.0.0->google-cloud-storage>=1.13.0->kfp) (2018.9)\n",
            "Requirement already satisfied: requests<3.0.0dev,>=2.18.0 in /usr/local/lib/python3.7/dist-packages (from google-api-core<2.0.0dev,>=1.14.0->google-cloud-core<2.0dev,>=1.0.0->google-cloud-storage>=1.13.0->kfp) (2.23.0)\n",
            "Requirement already satisfied: googleapis-common-protos<2.0dev,>=1.6.0 in /usr/local/lib/python3.7/dist-packages (from google-api-core<2.0.0dev,>=1.14.0->google-cloud-core<2.0dev,>=1.0.0->google-cloud-storage>=1.13.0->kfp) (1.53.0)\n",
            "Requirement already satisfied: protobuf>=3.12.0 in /usr/local/lib/python3.7/dist-packages (from google-api-core<2.0.0dev,>=1.14.0->google-cloud-core<2.0dev,>=1.0.0->google-cloud-storage>=1.13.0->kfp) (3.12.4)\n",
            "Requirement already satisfied: packaging>=14.3 in /usr/local/lib/python3.7/dist-packages (from google-api-core<2.0.0dev,>=1.14.0->google-cloud-core<2.0dev,>=1.0.0->google-cloud-storage>=1.13.0->kfp) (20.9)\n",
            "Requirement already satisfied: importlib-metadata in /usr/local/lib/python3.7/dist-packages (from jsonschema>=3.0.1->kfp) (3.10.1)\n",
            "Requirement already satisfied: attrs>=17.4.0 in /usr/local/lib/python3.7/dist-packages (from jsonschema>=3.0.1->kfp) (20.3.0)\n",
            "Requirement already satisfied: pyrsistent>=0.14.0 in /usr/local/lib/python3.7/dist-packages (from jsonschema>=3.0.1->kfp) (0.17.3)\n",
            "Collecting protobuf>=3.12.0\n",
            "  Downloading protobuf-3.15.8-cp37-cp37m-manylinux1_x86_64.whl (1.0 MB)\n",
            "\u001b[K     |████████████████████████████████| 1.0 MB 19.3 MB/s \n",
            "\u001b[?25hRequirement already satisfied: urllib3>=1.15 in /usr/local/lib/python3.7/dist-packages (from kfp-server-api<2.0.0,>=1.1.2->kfp) (1.24.3)\n",
            "Requirement already satisfied: certifi in /usr/local/lib/python3.7/dist-packages (from kfp-server-api<2.0.0,>=1.1.2->kfp) (2020.12.5)\n",
            "Requirement already satisfied: python-dateutil in /usr/local/lib/python3.7/dist-packages (from kfp-server-api<2.0.0,>=1.1.2->kfp) (2.8.1)\n",
            "Requirement already satisfied: requests-oauthlib in /usr/local/lib/python3.7/dist-packages (from kubernetes<12.0.0,>=8.0.0->kfp) (1.3.0)\n",
            "Collecting websocket-client!=0.40.0,!=0.41.*,!=0.42.*,>=0.32.0\n",
            "  Downloading websocket_client-0.58.0-py2.py3-none-any.whl (61 kB)\n",
            "\u001b[K     |████████████████████████████████| 61 kB 7.9 MB/s \n",
            "\u001b[?25hRequirement already satisfied: pyparsing>=2.0.2 in /usr/local/lib/python3.7/dist-packages (from packaging>=14.3->google-api-core<2.0.0dev,>=1.14.0->google-cloud-core<2.0dev,>=1.0.0->google-cloud-storage>=1.13.0->kfp) (2.4.7)\n",
            "Requirement already satisfied: pyasn1<0.5.0,>=0.4.6 in /usr/local/lib/python3.7/dist-packages (from pyasn1-modules>=0.2.1->google-auth>=1.6.1->kfp) (0.4.8)\n",
            "Requirement already satisfied: chardet<4,>=3.0.2 in /usr/local/lib/python3.7/dist-packages (from requests<3.0.0dev,>=2.18.0->google-api-core<2.0.0dev,>=1.14.0->google-cloud-core<2.0dev,>=1.0.0->google-cloud-storage>=1.13.0->kfp) (3.0.4)\n",
            "Requirement already satisfied: idna<3,>=2.5 in /usr/local/lib/python3.7/dist-packages (from requests<3.0.0dev,>=2.18.0->google-api-core<2.0.0dev,>=1.14.0->google-cloud-core<2.0dev,>=1.0.0->google-cloud-storage>=1.13.0->kfp) (2.10)\n",
            "Requirement already satisfied: wrapt<2,>=1.10 in /usr/local/lib/python3.7/dist-packages (from Deprecated->kfp) (1.12.1)\n",
            "Requirement already satisfied: zipp>=0.5 in /usr/local/lib/python3.7/dist-packages (from importlib-metadata->jsonschema>=3.0.1->kfp) (3.4.1)\n",
            "Requirement already satisfied: typing-extensions>=3.6.4 in /usr/local/lib/python3.7/dist-packages (from importlib-metadata->jsonschema>=3.0.1->kfp) (3.7.4.3)\n",
            "Requirement already satisfied: oauthlib>=3.0.0 in /usr/local/lib/python3.7/dist-packages (from requests-oauthlib->kubernetes<12.0.0,>=8.0.0->kfp) (3.1.0)\n",
            "Requirement already satisfied: wheel in /usr/local/lib/python3.7/dist-packages (from strip-hints->kfp) (0.36.2)\n",
            "Building wheels for collected packages: kfp, docstring-parser, fire, kfp-server-api, strip-hints\n",
            "  Building wheel for kfp (setup.py) ... \u001b[?25l\u001b[?25hdone\n",
            "  Created wheel for kfp: filename=kfp-1.4.0-py3-none-any.whl size=221064 sha256=eb25c05ad4b65b40622bc7152eb9353b41bc4abde337c7a4ac2a92f417cdf96d\n",
            "  Stored in directory: /root/.cache/pip/wheels/bb/05/5f/a1535f5d75f3548a3ae4eeed513944f0474ac4884f64ba7835\n",
            "  Building wheel for docstring-parser (PEP 517) ... \u001b[?25l\u001b[?25hdone\n",
            "  Created wheel for docstring-parser: filename=docstring_parser-0.7.3-py3-none-any.whl size=19230 sha256=e95236e5d8c4b42ca80a1750990f530428f3588bb0b13cd24475e8bd8dfed865\n",
            "  Stored in directory: /root/.cache/pip/wheels/ac/ed/39/ecb2e36c2893bb7b1324f6def66a7b3369c0bfc36ed2e07bb3\n",
            "  Building wheel for fire (setup.py) ... \u001b[?25l\u001b[?25hdone\n",
            "  Created wheel for fire: filename=fire-0.4.0-py2.py3-none-any.whl size=115928 sha256=ae3b9afc1790db222dd31ebb767011541f5289945b68531f8342fa2f066b060e\n",
            "  Stored in directory: /root/.cache/pip/wheels/8a/67/fb/2e8a12fa16661b9d5af1f654bd199366799740a85c64981226\n",
            "  Building wheel for kfp-server-api (setup.py) ... \u001b[?25l\u001b[?25hdone\n",
            "  Created wheel for kfp-server-api: filename=kfp_server_api-1.5.0-py3-none-any.whl size=92524 sha256=cd087d9e9c5050baba41c1fd3cc56d8a239e6aa50b6ca0a6ae75a0443f149fb0\n",
            "  Stored in directory: /root/.cache/pip/wheels/1e/ab/eb/1608f904a1a3f2a28696129c6dbd3cac00bea2cdad226ee60e\n",
            "  Building wheel for strip-hints (setup.py) ... \u001b[?25l\u001b[?25hdone\n",
            "  Created wheel for strip-hints: filename=strip_hints-0.1.9-py2.py3-none-any.whl size=20993 sha256=a8d3237e51dda0fcd43ee4243b240a3722bde86fcf4a9eef549cf8e8491a3fb3\n",
            "  Stored in directory: /root/.cache/pip/wheels/2d/b8/4e/a3ec111d2db63cec88121bd7c0ab1a123bce3b55dd19dda5c1\n",
            "Successfully built kfp docstring-parser fire kfp-server-api strip-hints\n",
            "Installing collected packages: protobuf, websocket-client, PyYAML, strip-hints, requests-toolbelt, kubernetes, kfp-server-api, kfp-pipeline-spec, jsonschema, fire, docstring-parser, Deprecated, kfp\n",
            "\u001b[33m  WARNING: Value for scheme.headers does not match. Please report this to <https://github.com/pypa/pip/issues/9617>\n",
            "  distutils: /root/.local/include/python3.7m/protobuf\n",
            "  sysconfig: /root/.local/include/python3.7/protobuf\u001b[0m\n",
            "\u001b[33m  WARNING: Additional context:\n",
            "  user = True\n",
            "  home = None\n",
            "  root = None\n",
            "  prefix = None\u001b[0m\n",
            "\u001b[33m  WARNING: Value for scheme.headers does not match. Please report this to <https://github.com/pypa/pip/issues/9617>\n",
            "  distutils: /root/.local/include/python3.7m/websocket-client\n",
            "  sysconfig: /root/.local/include/python3.7/websocket-client\u001b[0m\n",
            "\u001b[33m  WARNING: Additional context:\n",
            "  user = True\n",
            "  home = None\n",
            "  root = None\n",
            "  prefix = None\u001b[0m\n",
            "\u001b[33m  WARNING: Value for scheme.headers does not match. Please report this to <https://github.com/pypa/pip/issues/9617>\n",
            "  distutils: /root/.local/include/python3.7m/PyYAML\n",
            "  sysconfig: /root/.local/include/python3.7/PyYAML\u001b[0m\n",
            "\u001b[33m  WARNING: Additional context:\n",
            "  user = True\n",
            "  home = None\n",
            "  root = None\n",
            "  prefix = None\u001b[0m\n",
            "\u001b[33m  WARNING: Value for scheme.headers does not match. Please report this to <https://github.com/pypa/pip/issues/9617>\n",
            "  distutils: /root/.local/include/python3.7m/strip-hints\n",
            "  sysconfig: /root/.local/include/python3.7/strip-hints\u001b[0m\n",
            "\u001b[33m  WARNING: Additional context:\n",
            "  user = True\n",
            "  home = None\n",
            "  root = None\n",
            "  prefix = None\u001b[0m\n",
            "\u001b[33m  WARNING: The script strip-hints is installed in '/root/.local/bin' which is not on PATH.\n",
            "  Consider adding this directory to PATH or, if you prefer to suppress this warning, use --no-warn-script-location.\u001b[0m\n",
            "\u001b[33m  WARNING: Value for scheme.headers does not match. Please report this to <https://github.com/pypa/pip/issues/9617>\n",
            "  distutils: /root/.local/include/python3.7m/requests-toolbelt\n",
            "  sysconfig: /root/.local/include/python3.7/requests-toolbelt\u001b[0m\n",
            "\u001b[33m  WARNING: Additional context:\n",
            "  user = True\n",
            "  home = None\n",
            "  root = None\n",
            "  prefix = None\u001b[0m\n",
            "\u001b[33m  WARNING: Value for scheme.headers does not match. Please report this to <https://github.com/pypa/pip/issues/9617>\n",
            "  distutils: /root/.local/include/python3.7m/kubernetes\n",
            "  sysconfig: /root/.local/include/python3.7/kubernetes\u001b[0m\n",
            "\u001b[33m  WARNING: Additional context:\n",
            "  user = True\n",
            "  home = None\n",
            "  root = None\n",
            "  prefix = None\u001b[0m\n",
            "\u001b[33m  WARNING: Value for scheme.headers does not match. Please report this to <https://github.com/pypa/pip/issues/9617>\n",
            "  distutils: /root/.local/include/python3.7m/kfp-server-api\n",
            "  sysconfig: /root/.local/include/python3.7/kfp-server-api\u001b[0m\n",
            "\u001b[33m  WARNING: Additional context:\n",
            "  user = True\n",
            "  home = None\n",
            "  root = None\n",
            "  prefix = None\u001b[0m\n",
            "\u001b[33m  WARNING: Value for scheme.headers does not match. Please report this to <https://github.com/pypa/pip/issues/9617>\n",
            "  distutils: /root/.local/include/python3.7m/kfp-pipeline-spec\n",
            "  sysconfig: /root/.local/include/python3.7/kfp-pipeline-spec\u001b[0m\n",
            "\u001b[33m  WARNING: Additional context:\n",
            "  user = True\n",
            "  home = None\n",
            "  root = None\n",
            "  prefix = None\u001b[0m\n",
            "\u001b[33m  WARNING: Value for scheme.headers does not match. Please report this to <https://github.com/pypa/pip/issues/9617>\n",
            "  distutils: /root/.local/include/python3.7m/jsonschema\n",
            "  sysconfig: /root/.local/include/python3.7/jsonschema\u001b[0m\n",
            "\u001b[33m  WARNING: Additional context:\n",
            "  user = True\n",
            "  home = None\n",
            "  root = None\n",
            "  prefix = None\u001b[0m\n",
            "\u001b[33m  WARNING: The script jsonschema is installed in '/root/.local/bin' which is not on PATH.\n",
            "  Consider adding this directory to PATH or, if you prefer to suppress this warning, use --no-warn-script-location.\u001b[0m\n",
            "\u001b[33m  WARNING: Value for scheme.headers does not match. Please report this to <https://github.com/pypa/pip/issues/9617>\n",
            "  distutils: /root/.local/include/python3.7m/fire\n",
            "  sysconfig: /root/.local/include/python3.7/fire\u001b[0m\n",
            "\u001b[33m  WARNING: Additional context:\n",
            "  user = True\n",
            "  home = None\n",
            "  root = None\n",
            "  prefix = None\u001b[0m\n",
            "\u001b[33m  WARNING: Value for scheme.headers does not match. Please report this to <https://github.com/pypa/pip/issues/9617>\n",
            "  distutils: /root/.local/include/python3.7m/docstring-parser\n",
            "  sysconfig: /root/.local/include/python3.7/docstring-parser\u001b[0m\n",
            "\u001b[33m  WARNING: Additional context:\n",
            "  user = True\n",
            "  home = None\n",
            "  root = None\n",
            "  prefix = None\u001b[0m\n",
            "\u001b[33m  WARNING: Value for scheme.headers does not match. Please report this to <https://github.com/pypa/pip/issues/9617>\n",
            "  distutils: /root/.local/include/python3.7m/Deprecated\n",
            "  sysconfig: /root/.local/include/python3.7/Deprecated\u001b[0m\n",
            "\u001b[33m  WARNING: Additional context:\n",
            "  user = True\n",
            "  home = None\n",
            "  root = None\n",
            "  prefix = None\u001b[0m\n",
            "\u001b[33m  WARNING: Value for scheme.headers does not match. Please report this to <https://github.com/pypa/pip/issues/9617>\n",
            "  distutils: /root/.local/include/python3.7m/kfp\n",
            "  sysconfig: /root/.local/include/python3.7/kfp\u001b[0m\n",
            "\u001b[33m  WARNING: Additional context:\n",
            "  user = True\n",
            "  home = None\n",
            "  root = None\n",
            "  prefix = None\u001b[0m\n",
            "\u001b[33m  WARNING: The scripts dsl-compile, dsl-compile-v2 and kfp are installed in '/root/.local/bin' which is not on PATH.\n",
            "  Consider adding this directory to PATH or, if you prefer to suppress this warning, use --no-warn-script-location.\u001b[0m\n",
            "\u001b[33mWARNING: Value for scheme.headers does not match. Please report this to <https://github.com/pypa/pip/issues/9617>\n",
            "distutils: /root/.local/include/python3.7m/UNKNOWN\n",
            "sysconfig: /root/.local/include/python3.7\u001b[0m\n",
            "\u001b[33mWARNING: Additional context:\n",
            "user = True\n",
            "home = None\n",
            "root = None\n",
            "prefix = None\u001b[0m\n",
            "\u001b[31mERROR: pip's dependency resolver does not currently take into account all the packages that are installed. This behaviour is the source of the following dependency conflicts.\n",
            "nbclient 0.5.3 requires jupyter-client>=6.1.5, but you have jupyter-client 5.3.5 which is incompatible.\u001b[0m\n",
            "Successfully installed Deprecated-1.2.12 PyYAML-5.4.1 docstring-parser-0.7.3 fire-0.4.0 jsonschema-3.2.0 kfp-1.4.0 kfp-pipeline-spec-0.1.7 kfp-server-api-1.5.0 kubernetes-11.0.0 protobuf-3.15.8 requests-toolbelt-0.9.1 strip-hints-0.1.9 websocket-client-0.58.0\n",
            "\u001b[33mWARNING: Running pip as root will break packages and permissions. You should install packages reliably by using venv: https://pip.pypa.io/warnings/venv\u001b[0m\n"
          ],
          "name": "stdout"
        },
        {
          "output_type": "display_data",
          "data": {
            "application/vnd.colab-display-data+json": {
              "pip_warning": {
                "packages": [
                  "google"
                ]
              }
            }
          },
          "metadata": {
            "tags": []
          }
        }
      ]
    },
    {
      "cell_type": "code",
      "metadata": {
        "id": "9vqXPvwyB2Eq"
      },
      "source": [
        "import kfp\n",
        "from kfp import dsl\n",
        "import kfp.components as comp"
      ],
      "execution_count": 9,
      "outputs": []
    },
    {
      "cell_type": "code",
      "metadata": {
        "id": "wrDG6c8AATte"
      },
      "source": [
        "def load_data_op():\n",
        "    return dsl.ContainerOp(\n",
        "        name = 'Load Data',\n",
        "        image = 'mavencodevv/load_bird:v.0.1',\n",
        "        arguments = [],\n",
        "        file_outputs={\n",
        "            'img_folder': '/load_data/img_folder'\n",
        "        }  \n",
        "    )"
      ],
      "execution_count": 10,
      "outputs": []
    },
    {
      "cell_type": "code",
      "metadata": {
        "id": "vczuol21AfYA"
      },
      "source": [
        "def km_op(img_folder):\n",
        "    return dsl.ContainerOp(\n",
        "        name = 'Keras Model',\n",
        "        image = 'mavencodevv/km_bird:v.0.1',\n",
        "        arguments = ['--img_folder', img_folder],\n",
        "        file_outputs={\n",
        "            'km': '/keras_model/km.h5',\n",
        "            'model_json': '/keras_model/model_json',\n",
        "            'keras_metrics': '/keras_model/keras_metrics'\n",
        "        }\n",
        "    )"
      ],
      "execution_count": 11,
      "outputs": []
    },
    {
      "cell_type": "code",
      "metadata": {
        "id": "7WykEsKuVddq"
      },
      "source": [
        "def pyt_op(img_folder):\n",
        "    return dsl.ContainerOp(\n",
        "        name = 'Pytorch Model',\n",
        "        image = 'mavencodevv/pyt_bird:v.0.1',\n",
        "        arguments = ['--img_folder', img_folder],\n",
        "        file_outputs={\n",
        "            'pytorch_model': '/pyt_model/pytorch_model.pt',\n",
        "            'pytorch_metrics': '/pyt_model/pytorch_metrics'\n",
        "        }  \n",
        "    )"
      ],
      "execution_count": 16,
      "outputs": []
    },
    {
      "cell_type": "code",
      "metadata": {
        "id": "W0uq93o_duxf"
      },
      "source": [
        "def eval_op(img_folder, keras_metrics, model_json, km_model, pytorch_metrics, pytorch_model):\n",
        "    return dsl.ContainerOp(\n",
        "        name = 'Evaluating Models',\n",
        "        image = 'mavencodevv/eval_bird:v.0.1',\n",
        "        arguments = ['--img_folder', img_folder, \n",
        "                     '--keras_metrics', keras_metrics,\n",
        "                     '--model_json', model_json,\n",
        "                     '--km_model', km_model,\n",
        "                     '--pytorch_metrics', pytorch_metrics,\n",
        "                     '--pytorch_model', pytorch_model\n",
        "                     ]\n",
        " \n",
        "    )"
      ],
      "execution_count": 17,
      "outputs": []
    },
    {
      "cell_type": "code",
      "metadata": {
        "id": "hgXhBIMGA1TJ"
      },
      "source": [
        "@dsl.pipeline(\n",
        "    name='Bird Image Classification',\n",
        "   description='An ML pipeline which trains pytorch and keras models in image classification of birds'\n",
        ")\n",
        "\n",
        "# Define parameters to be fed into pipeline\n",
        "def image_pipeline():\n",
        "\n",
        "  volume_op = dsl.VolumeOp(\n",
        "    name=\"data_volume\",\n",
        "    resource_name=\"data-volume\",\n",
        "    size=\"1Gi\",\n",
        "    modes=dsl.VOLUME_MODE_RWO)\n",
        "  \n",
        "  _load_data_op = load_data_op().add_pvolumes({'/mnt': volume_op.volume})\n",
        "\n",
        "  _km_op = km_op(dsl.InputArgumentPath(_load_data_op.outputs['img_folder'])).add_pvolumes({'/mnt': _load_data_op.pvolume})\n",
        "\n",
        "  _pyt_op = pyt_op(dsl.InputArgumentPath(_load_data_op.outputs['img_folder'])).add_pvolumes({'/mnt': _load_data_op.pvolume})\n",
        "\n",
        "  _eval_op = eval_op(dsl.InputArgumentPath(_load_data_op.outputs['img_folder']),\n",
        "                     dsl.InputArgumentPath(_km_op.outputs['keras_metrics']),\n",
        "                     dsl.InputArgumentPath(_km_op.outputs['model_json']),\n",
        "                     dsl.InputArgumentPath(_km_op.outputs['km']),\n",
        "                     dsl.InputArgumentPath(_pyt_op.outputs['pytorch_metrics']),\n",
        "                     dsl.InputArgumentPath(_pyt_op.outputs['pytorch_model'])).add_pvolumes({'/mnt': _load_data_op.pvolume})\n"
      ],
      "execution_count": 18,
      "outputs": []
    },
    {
      "cell_type": "code",
      "metadata": {
        "colab": {
          "base_uri": "https://localhost:8080/"
        },
        "id": "3G_4l2IABp8o",
        "outputId": "cb2e0f8a-3e35-4271-8933-60e694ca6b2e"
      },
      "source": [
        "# Compile pipeline to generate compressed YAML definition of the pipeline.\n",
        "experiment_name = 'birdproject'\n",
        "\n",
        "kfp.compiler.Compiler().compile(image_pipeline, '{}.yaml'.format(experiment_name))"
      ],
      "execution_count": 19,
      "outputs": [
        {
          "output_type": "stream",
          "text": [
            "/root/.local/lib/python3.7/site-packages/kfp/dsl/_container_op.py:1039: FutureWarning: Please create reusable components instead of constructing ContainerOp instances directly. Reusable components are shareable, portable and have compatibility and support guarantees. Please see the documentation: https://www.kubeflow.org/docs/pipelines/sdk/component-development/#writing-your-component-definition-file The components can be created manually (or, in case of python, using kfp.components.create_component_from_func or func_to_container_op) and then loaded using kfp.components.load_component_from_file, load_component_from_uri or load_component_from_text: https://kubeflow-pipelines.readthedocs.io/en/stable/source/kfp.components.html#kfp.components.load_component_from_file\n",
            "  category=FutureWarning,\n"
          ],
          "name": "stderr"
        }
      ]
    },
    {
      "cell_type": "code",
      "metadata": {
        "id": "EniRmeaqB5Dq"
      },
      "source": [
        ""
      ],
      "execution_count": 5,
      "outputs": []
    }
  ]
}